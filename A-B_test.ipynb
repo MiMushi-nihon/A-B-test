{
 "cells": [
  {
   "cell_type": "markdown",
   "metadata": {},
   "source": [
    "# Проверить гипотезы по увеличению выручки для крупного интернет-магазина"
   ]
  },
  {
   "cell_type": "markdown",
   "metadata": {},
   "source": [
    "## Введение\n",
    "\n",
    "Я как аналитик интеренет-магазина вместе с отделом маркетига подготовил ряд гипотез, которые необходимо проверить и расставить приоритеты между ними. Аанлиз будем проводитьс помощью A/B теста"
   ]
  },
  {
   "cell_type": "markdown",
   "metadata": {},
   "source": [
    "## Предобработка данных"
   ]
  },
  {
   "cell_type": "code",
   "execution_count": 1,
   "metadata": {},
   "outputs": [
    {
     "data": {
      "text/html": [
       "<div>\n",
       "<style scoped>\n",
       "    .dataframe tbody tr th:only-of-type {\n",
       "        vertical-align: middle;\n",
       "    }\n",
       "\n",
       "    .dataframe tbody tr th {\n",
       "        vertical-align: top;\n",
       "    }\n",
       "\n",
       "    .dataframe thead th {\n",
       "        text-align: right;\n",
       "    }\n",
       "</style>\n",
       "<table border=\"1\" class=\"dataframe\">\n",
       "  <thead>\n",
       "    <tr style=\"text-align: right;\">\n",
       "      <th></th>\n",
       "      <th>Hypothesis</th>\n",
       "      <th>Reach</th>\n",
       "      <th>Impact</th>\n",
       "      <th>Confidence</th>\n",
       "      <th>Efforts</th>\n",
       "    </tr>\n",
       "  </thead>\n",
       "  <tbody>\n",
       "    <tr>\n",
       "      <th>0</th>\n",
       "      <td>Добавить два новых канала привлечения трафика, что позволит привлекать на 30% больше пользователей</td>\n",
       "      <td>3</td>\n",
       "      <td>10</td>\n",
       "      <td>8</td>\n",
       "      <td>6</td>\n",
       "    </tr>\n",
       "    <tr>\n",
       "      <th>1</th>\n",
       "      <td>Запустить собственную службу доставки, что сократит срок доставки заказов</td>\n",
       "      <td>2</td>\n",
       "      <td>5</td>\n",
       "      <td>4</td>\n",
       "      <td>10</td>\n",
       "    </tr>\n",
       "    <tr>\n",
       "      <th>2</th>\n",
       "      <td>Добавить блоки рекомендаций товаров на сайт интернет магазина, чтобы повысить конверсию и средний чек заказа</td>\n",
       "      <td>8</td>\n",
       "      <td>3</td>\n",
       "      <td>7</td>\n",
       "      <td>3</td>\n",
       "    </tr>\n",
       "    <tr>\n",
       "      <th>3</th>\n",
       "      <td>Изменить структура категорий, что увеличит конверсию, т.к. пользователи быстрее найдут нужный товар</td>\n",
       "      <td>8</td>\n",
       "      <td>3</td>\n",
       "      <td>3</td>\n",
       "      <td>8</td>\n",
       "    </tr>\n",
       "    <tr>\n",
       "      <th>4</th>\n",
       "      <td>Изменить цвет фона главной страницы, чтобы увеличить вовлеченность пользователей</td>\n",
       "      <td>3</td>\n",
       "      <td>1</td>\n",
       "      <td>1</td>\n",
       "      <td>1</td>\n",
       "    </tr>\n",
       "    <tr>\n",
       "      <th>5</th>\n",
       "      <td>Добавить страницу отзывов клиентов о магазине, что позволит увеличить количество заказов</td>\n",
       "      <td>3</td>\n",
       "      <td>2</td>\n",
       "      <td>2</td>\n",
       "      <td>3</td>\n",
       "    </tr>\n",
       "    <tr>\n",
       "      <th>6</th>\n",
       "      <td>Показать на главной странице баннеры с актуальными акциями и распродажами, чтобы увеличить конверсию</td>\n",
       "      <td>5</td>\n",
       "      <td>3</td>\n",
       "      <td>8</td>\n",
       "      <td>3</td>\n",
       "    </tr>\n",
       "    <tr>\n",
       "      <th>7</th>\n",
       "      <td>Добавить форму подписки на все основные страницы, чтобы собрать базу клиентов для email-рассылок</td>\n",
       "      <td>10</td>\n",
       "      <td>7</td>\n",
       "      <td>8</td>\n",
       "      <td>5</td>\n",
       "    </tr>\n",
       "    <tr>\n",
       "      <th>8</th>\n",
       "      <td>Запустить акцию, дающую скидку на товар в день рождения</td>\n",
       "      <td>1</td>\n",
       "      <td>9</td>\n",
       "      <td>9</td>\n",
       "      <td>5</td>\n",
       "    </tr>\n",
       "  </tbody>\n",
       "</table>\n",
       "</div>"
      ],
      "text/plain": [
       "                                                                                                     Hypothesis  \\\n",
       "0            Добавить два новых канала привлечения трафика, что позволит привлекать на 30% больше пользователей   \n",
       "1                                     Запустить собственную службу доставки, что сократит срок доставки заказов   \n",
       "2  Добавить блоки рекомендаций товаров на сайт интернет магазина, чтобы повысить конверсию и средний чек заказа   \n",
       "3           Изменить структура категорий, что увеличит конверсию, т.к. пользователи быстрее найдут нужный товар   \n",
       "4                              Изменить цвет фона главной страницы, чтобы увеличить вовлеченность пользователей   \n",
       "5                      Добавить страницу отзывов клиентов о магазине, что позволит увеличить количество заказов   \n",
       "6          Показать на главной странице баннеры с актуальными акциями и распродажами, чтобы увеличить конверсию   \n",
       "7              Добавить форму подписки на все основные страницы, чтобы собрать базу клиентов для email-рассылок   \n",
       "8                                                       Запустить акцию, дающую скидку на товар в день рождения   \n",
       "\n",
       "   Reach  Impact  Confidence  Efforts  \n",
       "0      3      10           8        6  \n",
       "1      2       5           4       10  \n",
       "2      8       3           7        3  \n",
       "3      8       3           3        8  \n",
       "4      3       1           1        1  \n",
       "5      3       2           2        3  \n",
       "6      5       3           8        3  \n",
       "7     10       7           8        5  \n",
       "8      1       9           9        5  "
      ]
     },
     "metadata": {},
     "output_type": "display_data"
    },
    {
     "data": {
      "text/html": [
       "<div>\n",
       "<style scoped>\n",
       "    .dataframe tbody tr th:only-of-type {\n",
       "        vertical-align: middle;\n",
       "    }\n",
       "\n",
       "    .dataframe tbody tr th {\n",
       "        vertical-align: top;\n",
       "    }\n",
       "\n",
       "    .dataframe thead th {\n",
       "        text-align: right;\n",
       "    }\n",
       "</style>\n",
       "<table border=\"1\" class=\"dataframe\">\n",
       "  <thead>\n",
       "    <tr style=\"text-align: right;\">\n",
       "      <th></th>\n",
       "      <th>transactionId</th>\n",
       "      <th>visitorId</th>\n",
       "      <th>date</th>\n",
       "      <th>revenue</th>\n",
       "      <th>group</th>\n",
       "    </tr>\n",
       "  </thead>\n",
       "  <tbody>\n",
       "    <tr>\n",
       "      <th>0</th>\n",
       "      <td>3667963787</td>\n",
       "      <td>3312258926</td>\n",
       "      <td>2019-08-15</td>\n",
       "      <td>1650</td>\n",
       "      <td>B</td>\n",
       "    </tr>\n",
       "    <tr>\n",
       "      <th>1</th>\n",
       "      <td>2804400009</td>\n",
       "      <td>3642806036</td>\n",
       "      <td>2019-08-15</td>\n",
       "      <td>730</td>\n",
       "      <td>B</td>\n",
       "    </tr>\n",
       "    <tr>\n",
       "      <th>2</th>\n",
       "      <td>2961555356</td>\n",
       "      <td>4069496402</td>\n",
       "      <td>2019-08-15</td>\n",
       "      <td>400</td>\n",
       "      <td>A</td>\n",
       "    </tr>\n",
       "    <tr>\n",
       "      <th>3</th>\n",
       "      <td>3797467345</td>\n",
       "      <td>1196621759</td>\n",
       "      <td>2019-08-15</td>\n",
       "      <td>9759</td>\n",
       "      <td>B</td>\n",
       "    </tr>\n",
       "    <tr>\n",
       "      <th>4</th>\n",
       "      <td>2282983706</td>\n",
       "      <td>2322279887</td>\n",
       "      <td>2019-08-15</td>\n",
       "      <td>2308</td>\n",
       "      <td>B</td>\n",
       "    </tr>\n",
       "    <tr>\n",
       "      <th>...</th>\n",
       "      <td>...</td>\n",
       "      <td>...</td>\n",
       "      <td>...</td>\n",
       "      <td>...</td>\n",
       "      <td>...</td>\n",
       "    </tr>\n",
       "    <tr>\n",
       "      <th>1192</th>\n",
       "      <td>2662137336</td>\n",
       "      <td>3733762160</td>\n",
       "      <td>2019-08-14</td>\n",
       "      <td>6490</td>\n",
       "      <td>B</td>\n",
       "    </tr>\n",
       "    <tr>\n",
       "      <th>1193</th>\n",
       "      <td>2203539145</td>\n",
       "      <td>370388673</td>\n",
       "      <td>2019-08-14</td>\n",
       "      <td>3190</td>\n",
       "      <td>A</td>\n",
       "    </tr>\n",
       "    <tr>\n",
       "      <th>1194</th>\n",
       "      <td>1807773912</td>\n",
       "      <td>573423106</td>\n",
       "      <td>2019-08-14</td>\n",
       "      <td>10550</td>\n",
       "      <td>A</td>\n",
       "    </tr>\n",
       "    <tr>\n",
       "      <th>1195</th>\n",
       "      <td>1947021204</td>\n",
       "      <td>1614305549</td>\n",
       "      <td>2019-08-14</td>\n",
       "      <td>100</td>\n",
       "      <td>A</td>\n",
       "    </tr>\n",
       "    <tr>\n",
       "      <th>1196</th>\n",
       "      <td>3936777065</td>\n",
       "      <td>2108080724</td>\n",
       "      <td>2019-08-15</td>\n",
       "      <td>202740</td>\n",
       "      <td>B</td>\n",
       "    </tr>\n",
       "  </tbody>\n",
       "</table>\n",
       "<p>1197 rows × 5 columns</p>\n",
       "</div>"
      ],
      "text/plain": [
       "      transactionId   visitorId        date  revenue group\n",
       "0        3667963787  3312258926  2019-08-15     1650     B\n",
       "1        2804400009  3642806036  2019-08-15      730     B\n",
       "2        2961555356  4069496402  2019-08-15      400     A\n",
       "3        3797467345  1196621759  2019-08-15     9759     B\n",
       "4        2282983706  2322279887  2019-08-15     2308     B\n",
       "...             ...         ...         ...      ...   ...\n",
       "1192     2662137336  3733762160  2019-08-14     6490     B\n",
       "1193     2203539145   370388673  2019-08-14     3190     A\n",
       "1194     1807773912   573423106  2019-08-14    10550     A\n",
       "1195     1947021204  1614305549  2019-08-14      100     A\n",
       "1196     3936777065  2108080724  2019-08-15   202740     B\n",
       "\n",
       "[1197 rows x 5 columns]"
      ]
     },
     "metadata": {},
     "output_type": "display_data"
    },
    {
     "data": {
      "text/html": [
       "<div>\n",
       "<style scoped>\n",
       "    .dataframe tbody tr th:only-of-type {\n",
       "        vertical-align: middle;\n",
       "    }\n",
       "\n",
       "    .dataframe tbody tr th {\n",
       "        vertical-align: top;\n",
       "    }\n",
       "\n",
       "    .dataframe thead th {\n",
       "        text-align: right;\n",
       "    }\n",
       "</style>\n",
       "<table border=\"1\" class=\"dataframe\">\n",
       "  <thead>\n",
       "    <tr style=\"text-align: right;\">\n",
       "      <th></th>\n",
       "      <th>date</th>\n",
       "      <th>group</th>\n",
       "      <th>visitors</th>\n",
       "    </tr>\n",
       "  </thead>\n",
       "  <tbody>\n",
       "    <tr>\n",
       "      <th>0</th>\n",
       "      <td>2019-08-01</td>\n",
       "      <td>A</td>\n",
       "      <td>719</td>\n",
       "    </tr>\n",
       "    <tr>\n",
       "      <th>1</th>\n",
       "      <td>2019-08-02</td>\n",
       "      <td>A</td>\n",
       "      <td>619</td>\n",
       "    </tr>\n",
       "    <tr>\n",
       "      <th>2</th>\n",
       "      <td>2019-08-03</td>\n",
       "      <td>A</td>\n",
       "      <td>507</td>\n",
       "    </tr>\n",
       "    <tr>\n",
       "      <th>3</th>\n",
       "      <td>2019-08-04</td>\n",
       "      <td>A</td>\n",
       "      <td>717</td>\n",
       "    </tr>\n",
       "    <tr>\n",
       "      <th>4</th>\n",
       "      <td>2019-08-05</td>\n",
       "      <td>A</td>\n",
       "      <td>756</td>\n",
       "    </tr>\n",
       "    <tr>\n",
       "      <th>...</th>\n",
       "      <td>...</td>\n",
       "      <td>...</td>\n",
       "      <td>...</td>\n",
       "    </tr>\n",
       "    <tr>\n",
       "      <th>57</th>\n",
       "      <td>2019-08-27</td>\n",
       "      <td>B</td>\n",
       "      <td>720</td>\n",
       "    </tr>\n",
       "    <tr>\n",
       "      <th>58</th>\n",
       "      <td>2019-08-28</td>\n",
       "      <td>B</td>\n",
       "      <td>654</td>\n",
       "    </tr>\n",
       "    <tr>\n",
       "      <th>59</th>\n",
       "      <td>2019-08-29</td>\n",
       "      <td>B</td>\n",
       "      <td>531</td>\n",
       "    </tr>\n",
       "    <tr>\n",
       "      <th>60</th>\n",
       "      <td>2019-08-30</td>\n",
       "      <td>B</td>\n",
       "      <td>490</td>\n",
       "    </tr>\n",
       "    <tr>\n",
       "      <th>61</th>\n",
       "      <td>2019-08-31</td>\n",
       "      <td>B</td>\n",
       "      <td>718</td>\n",
       "    </tr>\n",
       "  </tbody>\n",
       "</table>\n",
       "<p>62 rows × 3 columns</p>\n",
       "</div>"
      ],
      "text/plain": [
       "          date group  visitors\n",
       "0   2019-08-01     A       719\n",
       "1   2019-08-02     A       619\n",
       "2   2019-08-03     A       507\n",
       "3   2019-08-04     A       717\n",
       "4   2019-08-05     A       756\n",
       "..         ...   ...       ...\n",
       "57  2019-08-27     B       720\n",
       "58  2019-08-28     B       654\n",
       "59  2019-08-29     B       531\n",
       "60  2019-08-30     B       490\n",
       "61  2019-08-31     B       718\n",
       "\n",
       "[62 rows x 3 columns]"
      ]
     },
     "metadata": {},
     "output_type": "display_data"
    },
    {
     "name": "stdout",
     "output_type": "stream",
     "text": [
      "<class 'pandas.core.frame.DataFrame'>\n",
      "RangeIndex: 9 entries, 0 to 8\n",
      "Data columns (total 5 columns):\n",
      " #   Column      Non-Null Count  Dtype \n",
      "---  ------      --------------  ----- \n",
      " 0   Hypothesis  9 non-null      object\n",
      " 1   Reach       9 non-null      int64 \n",
      " 2   Impact      9 non-null      int64 \n",
      " 3   Confidence  9 non-null      int64 \n",
      " 4   Efforts     9 non-null      int64 \n",
      "dtypes: int64(4), object(1)\n",
      "memory usage: 488.0+ bytes\n",
      "<class 'pandas.core.frame.DataFrame'>\n",
      "RangeIndex: 1197 entries, 0 to 1196\n",
      "Data columns (total 5 columns):\n",
      " #   Column         Non-Null Count  Dtype \n",
      "---  ------         --------------  ----- \n",
      " 0   transactionId  1197 non-null   int64 \n",
      " 1   visitorId      1197 non-null   int64 \n",
      " 2   date           1197 non-null   object\n",
      " 3   revenue        1197 non-null   int64 \n",
      " 4   group          1197 non-null   object\n",
      "dtypes: int64(3), object(2)\n",
      "memory usage: 46.9+ KB\n",
      "<class 'pandas.core.frame.DataFrame'>\n",
      "RangeIndex: 62 entries, 0 to 61\n",
      "Data columns (total 3 columns):\n",
      " #   Column    Non-Null Count  Dtype \n",
      "---  ------    --------------  ----- \n",
      " 0   date      62 non-null     object\n",
      " 1   group     62 non-null     object\n",
      " 2   visitors  62 non-null     int64 \n",
      "dtypes: int64(1), object(2)\n",
      "memory usage: 1.6+ KB\n"
     ]
    }
   ],
   "source": [
    "# Подключим необходимые  для работы библиотеки\n",
    "import pandas as pd\n",
    "import numpy as np\n",
    "import datetime as dt\n",
    "import scipy.stats as stats\n",
    "import matplotlib.pyplot as plt\n",
    "\n",
    "pd.set_option('display.max_columns', None)\n",
    "pd.options.display.max_colwidth = 150  \n",
    "#Загрузим датафреймы\n",
    "hypothesis = pd.read_csv('/datasets/hypothesis.csv')\n",
    "orders = pd.read_csv('/datasets/orders.csv')\n",
    "visitors = pd.read_csv('/datasets/visitors.csv')\n",
    "display(hypothesis,orders,visitors)\n",
    "#Взглянем на используемые типы даных\n",
    "hypothesis.info()\n",
    "orders.info()\n",
    "visitors.info()"
   ]
  },
  {
   "cell_type": "markdown",
   "metadata": {},
   "source": [
    "После подключения необходимых библиотек для анализа данных, видим что, не во всех фреймах все данные приведены к единому регистру. Еще необходмо провести анализданных на пропуски."
   ]
  },
  {
   "cell_type": "code",
   "execution_count": 2,
   "metadata": {},
   "outputs": [
    {
     "name": "stdout",
     "output_type": "stream",
     "text": [
      "Пропуски во фрейме \"visitors\" date        0.0\n",
      "group       0.0\n",
      "visitors    0.0\n",
      "dtype: float64\n",
      "Пропуски во фрейме \"orders\" transactionId    0.0\n",
      "visitorId        0.0\n",
      "date             0.0\n",
      "revenue          0.0\n",
      "group            0.0\n",
      "dtype: float64\n"
     ]
    }
   ],
   "source": [
    "#посмотрим на пропуски в 2-х больших фреймах (orders,visitors)\n",
    "print('Пропуски во фрейме \"visitors\"',round((visitors.isna().mean()*100),2))\n",
    "print('Пропуски во фрейме \"orders\"',round((orders.isna().mean()*100),2))"
   ]
  },
  {
   "cell_type": "markdown",
   "metadata": {},
   "source": [
    "Как видим пропусков нет, взглянем теперь на то, есть ли дубликаты данных"
   ]
  },
  {
   "cell_type": "code",
   "execution_count": 3,
   "metadata": {},
   "outputs": [
    {
     "name": "stdout",
     "output_type": "stream",
     "text": [
      "0\n",
      "0\n"
     ]
    }
   ],
   "source": [
    "#Проверим есть ли дубликаты данных\n",
    "print(visitors.duplicated().sum())\n",
    "print(visitors.duplicated().sum())"
   ]
  },
  {
   "cell_type": "code",
   "execution_count": 4,
   "metadata": {},
   "outputs": [
    {
     "data": {
      "text/html": [
       "<div>\n",
       "<style scoped>\n",
       "    .dataframe tbody tr th:only-of-type {\n",
       "        vertical-align: middle;\n",
       "    }\n",
       "\n",
       "    .dataframe tbody tr th {\n",
       "        vertical-align: top;\n",
       "    }\n",
       "\n",
       "    .dataframe thead th {\n",
       "        text-align: right;\n",
       "    }\n",
       "</style>\n",
       "<table border=\"1\" class=\"dataframe\">\n",
       "  <thead>\n",
       "    <tr style=\"text-align: right;\">\n",
       "      <th></th>\n",
       "      <th>hypothesis</th>\n",
       "      <th>reach</th>\n",
       "      <th>impact</th>\n",
       "      <th>confidence</th>\n",
       "      <th>efforts</th>\n",
       "    </tr>\n",
       "  </thead>\n",
       "  <tbody>\n",
       "    <tr>\n",
       "      <th>0</th>\n",
       "      <td>Добавить два новых канала привлечения трафика, что позволит привлекать на 30% больше пользователей</td>\n",
       "      <td>3</td>\n",
       "      <td>10</td>\n",
       "      <td>8</td>\n",
       "      <td>6</td>\n",
       "    </tr>\n",
       "    <tr>\n",
       "      <th>1</th>\n",
       "      <td>Запустить собственную службу доставки, что сократит срок доставки заказов</td>\n",
       "      <td>2</td>\n",
       "      <td>5</td>\n",
       "      <td>4</td>\n",
       "      <td>10</td>\n",
       "    </tr>\n",
       "    <tr>\n",
       "      <th>2</th>\n",
       "      <td>Добавить блоки рекомендаций товаров на сайт интернет магазина, чтобы повысить конверсию и средний чек заказа</td>\n",
       "      <td>8</td>\n",
       "      <td>3</td>\n",
       "      <td>7</td>\n",
       "      <td>3</td>\n",
       "    </tr>\n",
       "    <tr>\n",
       "      <th>3</th>\n",
       "      <td>Изменить структура категорий, что увеличит конверсию, т.к. пользователи быстрее найдут нужный товар</td>\n",
       "      <td>8</td>\n",
       "      <td>3</td>\n",
       "      <td>3</td>\n",
       "      <td>8</td>\n",
       "    </tr>\n",
       "    <tr>\n",
       "      <th>4</th>\n",
       "      <td>Изменить цвет фона главной страницы, чтобы увеличить вовлеченность пользователей</td>\n",
       "      <td>3</td>\n",
       "      <td>1</td>\n",
       "      <td>1</td>\n",
       "      <td>1</td>\n",
       "    </tr>\n",
       "    <tr>\n",
       "      <th>5</th>\n",
       "      <td>Добавить страницу отзывов клиентов о магазине, что позволит увеличить количество заказов</td>\n",
       "      <td>3</td>\n",
       "      <td>2</td>\n",
       "      <td>2</td>\n",
       "      <td>3</td>\n",
       "    </tr>\n",
       "    <tr>\n",
       "      <th>6</th>\n",
       "      <td>Показать на главной странице баннеры с актуальными акциями и распродажами, чтобы увеличить конверсию</td>\n",
       "      <td>5</td>\n",
       "      <td>3</td>\n",
       "      <td>8</td>\n",
       "      <td>3</td>\n",
       "    </tr>\n",
       "    <tr>\n",
       "      <th>7</th>\n",
       "      <td>Добавить форму подписки на все основные страницы, чтобы собрать базу клиентов для email-рассылок</td>\n",
       "      <td>10</td>\n",
       "      <td>7</td>\n",
       "      <td>8</td>\n",
       "      <td>5</td>\n",
       "    </tr>\n",
       "    <tr>\n",
       "      <th>8</th>\n",
       "      <td>Запустить акцию, дающую скидку на товар в день рождения</td>\n",
       "      <td>1</td>\n",
       "      <td>9</td>\n",
       "      <td>9</td>\n",
       "      <td>5</td>\n",
       "    </tr>\n",
       "  </tbody>\n",
       "</table>\n",
       "</div>"
      ],
      "text/plain": [
       "                                                                                                     hypothesis  \\\n",
       "0            Добавить два новых канала привлечения трафика, что позволит привлекать на 30% больше пользователей   \n",
       "1                                     Запустить собственную службу доставки, что сократит срок доставки заказов   \n",
       "2  Добавить блоки рекомендаций товаров на сайт интернет магазина, чтобы повысить конверсию и средний чек заказа   \n",
       "3           Изменить структура категорий, что увеличит конверсию, т.к. пользователи быстрее найдут нужный товар   \n",
       "4                              Изменить цвет фона главной страницы, чтобы увеличить вовлеченность пользователей   \n",
       "5                      Добавить страницу отзывов клиентов о магазине, что позволит увеличить количество заказов   \n",
       "6          Показать на главной странице баннеры с актуальными акциями и распродажами, чтобы увеличить конверсию   \n",
       "7              Добавить форму подписки на все основные страницы, чтобы собрать базу клиентов для email-рассылок   \n",
       "8                                                       Запустить акцию, дающую скидку на товар в день рождения   \n",
       "\n",
       "   reach  impact  confidence  efforts  \n",
       "0      3      10           8        6  \n",
       "1      2       5           4       10  \n",
       "2      8       3           7        3  \n",
       "3      8       3           3        8  \n",
       "4      3       1           1        1  \n",
       "5      3       2           2        3  \n",
       "6      5       3           8        3  \n",
       "7     10       7           8        5  \n",
       "8      1       9           9        5  "
      ]
     },
     "metadata": {},
     "output_type": "display_data"
    },
    {
     "name": "stdout",
     "output_type": "stream",
     "text": [
      "<class 'pandas.core.frame.DataFrame'>\n",
      "RangeIndex: 1197 entries, 0 to 1196\n",
      "Data columns (total 5 columns):\n",
      " #   Column          Non-Null Count  Dtype \n",
      "---  ------          --------------  ----- \n",
      " 0   transaction_id  1197 non-null   int64 \n",
      " 1   visitor_id      1197 non-null   int64 \n",
      " 2   date            1197 non-null   object\n",
      " 3   revenue         1197 non-null   int64 \n",
      " 4   group           1197 non-null   object\n",
      "dtypes: int64(3), object(2)\n",
      "memory usage: 46.9+ KB\n"
     ]
    }
   ],
   "source": [
    "#Приведем все названия столбцов во фреймах к единому регистру\n",
    "hypothesis.columns = hypothesis.columns.str.lower()\n",
    "display(hypothesis)\n",
    "orders.columns = orders.columns.str.lower()\n",
    "orders.columns = ['transaction_id','visitor_id','date','revenue','group']\n",
    "orders.info()"
   ]
  },
  {
   "cell_type": "markdown",
   "metadata": {},
   "source": [
    "предобработка данных выполнена в полном объеме, были приведены к единому регистру названия некоторых столбцов во фреймах."
   ]
  },
  {
   "cell_type": "markdown",
   "metadata": {},
   "source": [
    "## Приоритизация гипотез"
   ]
  },
  {
   "cell_type": "markdown",
   "metadata": {},
   "source": [
    "### Приоритизация гипотез с помощью фреймворка ICE"
   ]
  },
  {
   "cell_type": "code",
   "execution_count": 5,
   "metadata": {},
   "outputs": [
    {
     "data": {
      "text/html": [
       "<div>\n",
       "<style scoped>\n",
       "    .dataframe tbody tr th:only-of-type {\n",
       "        vertical-align: middle;\n",
       "    }\n",
       "\n",
       "    .dataframe tbody tr th {\n",
       "        vertical-align: top;\n",
       "    }\n",
       "\n",
       "    .dataframe thead th {\n",
       "        text-align: right;\n",
       "    }\n",
       "</style>\n",
       "<table border=\"1\" class=\"dataframe\">\n",
       "  <thead>\n",
       "    <tr style=\"text-align: right;\">\n",
       "      <th></th>\n",
       "      <th>hypothesis</th>\n",
       "      <th>reach</th>\n",
       "      <th>impact</th>\n",
       "      <th>confidence</th>\n",
       "      <th>efforts</th>\n",
       "      <th>ice</th>\n",
       "    </tr>\n",
       "  </thead>\n",
       "  <tbody>\n",
       "    <tr>\n",
       "      <th>8</th>\n",
       "      <td>Запустить акцию, дающую скидку на товар в день рождения</td>\n",
       "      <td>1</td>\n",
       "      <td>9</td>\n",
       "      <td>9</td>\n",
       "      <td>5</td>\n",
       "      <td>16.200000</td>\n",
       "    </tr>\n",
       "    <tr>\n",
       "      <th>0</th>\n",
       "      <td>Добавить два новых канала привлечения трафика, что позволит привлекать на 30% больше пользователей</td>\n",
       "      <td>3</td>\n",
       "      <td>10</td>\n",
       "      <td>8</td>\n",
       "      <td>6</td>\n",
       "      <td>13.333333</td>\n",
       "    </tr>\n",
       "    <tr>\n",
       "      <th>7</th>\n",
       "      <td>Добавить форму подписки на все основные страницы, чтобы собрать базу клиентов для email-рассылок</td>\n",
       "      <td>10</td>\n",
       "      <td>7</td>\n",
       "      <td>8</td>\n",
       "      <td>5</td>\n",
       "      <td>11.200000</td>\n",
       "    </tr>\n",
       "    <tr>\n",
       "      <th>6</th>\n",
       "      <td>Показать на главной странице баннеры с актуальными акциями и распродажами, чтобы увеличить конверсию</td>\n",
       "      <td>5</td>\n",
       "      <td>3</td>\n",
       "      <td>8</td>\n",
       "      <td>3</td>\n",
       "      <td>8.000000</td>\n",
       "    </tr>\n",
       "    <tr>\n",
       "      <th>2</th>\n",
       "      <td>Добавить блоки рекомендаций товаров на сайт интернет магазина, чтобы повысить конверсию и средний чек заказа</td>\n",
       "      <td>8</td>\n",
       "      <td>3</td>\n",
       "      <td>7</td>\n",
       "      <td>3</td>\n",
       "      <td>7.000000</td>\n",
       "    </tr>\n",
       "    <tr>\n",
       "      <th>1</th>\n",
       "      <td>Запустить собственную службу доставки, что сократит срок доставки заказов</td>\n",
       "      <td>2</td>\n",
       "      <td>5</td>\n",
       "      <td>4</td>\n",
       "      <td>10</td>\n",
       "      <td>2.000000</td>\n",
       "    </tr>\n",
       "    <tr>\n",
       "      <th>5</th>\n",
       "      <td>Добавить страницу отзывов клиентов о магазине, что позволит увеличить количество заказов</td>\n",
       "      <td>3</td>\n",
       "      <td>2</td>\n",
       "      <td>2</td>\n",
       "      <td>3</td>\n",
       "      <td>1.333333</td>\n",
       "    </tr>\n",
       "    <tr>\n",
       "      <th>3</th>\n",
       "      <td>Изменить структура категорий, что увеличит конверсию, т.к. пользователи быстрее найдут нужный товар</td>\n",
       "      <td>8</td>\n",
       "      <td>3</td>\n",
       "      <td>3</td>\n",
       "      <td>8</td>\n",
       "      <td>1.125000</td>\n",
       "    </tr>\n",
       "    <tr>\n",
       "      <th>4</th>\n",
       "      <td>Изменить цвет фона главной страницы, чтобы увеличить вовлеченность пользователей</td>\n",
       "      <td>3</td>\n",
       "      <td>1</td>\n",
       "      <td>1</td>\n",
       "      <td>1</td>\n",
       "      <td>1.000000</td>\n",
       "    </tr>\n",
       "  </tbody>\n",
       "</table>\n",
       "</div>"
      ],
      "text/plain": [
       "                                                                                                     hypothesis  \\\n",
       "8                                                       Запустить акцию, дающую скидку на товар в день рождения   \n",
       "0            Добавить два новых канала привлечения трафика, что позволит привлекать на 30% больше пользователей   \n",
       "7              Добавить форму подписки на все основные страницы, чтобы собрать базу клиентов для email-рассылок   \n",
       "6          Показать на главной странице баннеры с актуальными акциями и распродажами, чтобы увеличить конверсию   \n",
       "2  Добавить блоки рекомендаций товаров на сайт интернет магазина, чтобы повысить конверсию и средний чек заказа   \n",
       "1                                     Запустить собственную службу доставки, что сократит срок доставки заказов   \n",
       "5                      Добавить страницу отзывов клиентов о магазине, что позволит увеличить количество заказов   \n",
       "3           Изменить структура категорий, что увеличит конверсию, т.к. пользователи быстрее найдут нужный товар   \n",
       "4                              Изменить цвет фона главной страницы, чтобы увеличить вовлеченность пользователей   \n",
       "\n",
       "   reach  impact  confidence  efforts        ice  \n",
       "8      1       9           9        5  16.200000  \n",
       "0      3      10           8        6  13.333333  \n",
       "7     10       7           8        5  11.200000  \n",
       "6      5       3           8        3   8.000000  \n",
       "2      8       3           7        3   7.000000  \n",
       "1      2       5           4       10   2.000000  \n",
       "5      3       2           2        3   1.333333  \n",
       "3      8       3           3        8   1.125000  \n",
       "4      3       1           1        1   1.000000  "
      ]
     },
     "metadata": {},
     "output_type": "display_data"
    }
   ],
   "source": [
    "#Выполним приоритизацию гипотез, создав дополнительный столбец во фрейме и используя фреймворк ICE\n",
    "hypothesis['ice'] = (hypothesis['impact'] * hypothesis['confidence']) / hypothesis['efforts']\n",
    "display(hypothesis.sort_values(by='ice',ascending=False))"
   ]
  },
  {
   "cell_type": "markdown",
   "metadata": {},
   "source": [
    "Наиболее перспективными гипотезами оказались **8,0,7**(*Запустить акцию, дающую скидку на товар в день рождения, Добавить два новых канала привлечения трафика, что позволит привлекать на 30% больше пользователей, Добавить форму подписки на все основные страницы, чтобы собрать базу клиентов для email-рассылок*)"
   ]
  },
  {
   "cell_type": "markdown",
   "metadata": {},
   "source": [
    "### Приоритизация гипотез с помощью фреймворка RICE"
   ]
  },
  {
   "cell_type": "code",
   "execution_count": 6,
   "metadata": {},
   "outputs": [
    {
     "data": {
      "text/html": [
       "<div>\n",
       "<style scoped>\n",
       "    .dataframe tbody tr th:only-of-type {\n",
       "        vertical-align: middle;\n",
       "    }\n",
       "\n",
       "    .dataframe tbody tr th {\n",
       "        vertical-align: top;\n",
       "    }\n",
       "\n",
       "    .dataframe thead th {\n",
       "        text-align: right;\n",
       "    }\n",
       "</style>\n",
       "<table border=\"1\" class=\"dataframe\">\n",
       "  <thead>\n",
       "    <tr style=\"text-align: right;\">\n",
       "      <th></th>\n",
       "      <th>hypothesis</th>\n",
       "      <th>reach</th>\n",
       "      <th>impact</th>\n",
       "      <th>confidence</th>\n",
       "      <th>efforts</th>\n",
       "      <th>ice</th>\n",
       "      <th>rice</th>\n",
       "    </tr>\n",
       "  </thead>\n",
       "  <tbody>\n",
       "    <tr>\n",
       "      <th>7</th>\n",
       "      <td>Добавить форму подписки на все основные страницы, чтобы собрать базу клиентов для email-рассылок</td>\n",
       "      <td>10</td>\n",
       "      <td>7</td>\n",
       "      <td>8</td>\n",
       "      <td>5</td>\n",
       "      <td>11.200000</td>\n",
       "      <td>112.0</td>\n",
       "    </tr>\n",
       "    <tr>\n",
       "      <th>2</th>\n",
       "      <td>Добавить блоки рекомендаций товаров на сайт интернет магазина, чтобы повысить конверсию и средний чек заказа</td>\n",
       "      <td>8</td>\n",
       "      <td>3</td>\n",
       "      <td>7</td>\n",
       "      <td>3</td>\n",
       "      <td>7.000000</td>\n",
       "      <td>56.0</td>\n",
       "    </tr>\n",
       "    <tr>\n",
       "      <th>0</th>\n",
       "      <td>Добавить два новых канала привлечения трафика, что позволит привлекать на 30% больше пользователей</td>\n",
       "      <td>3</td>\n",
       "      <td>10</td>\n",
       "      <td>8</td>\n",
       "      <td>6</td>\n",
       "      <td>13.333333</td>\n",
       "      <td>40.0</td>\n",
       "    </tr>\n",
       "    <tr>\n",
       "      <th>6</th>\n",
       "      <td>Показать на главной странице баннеры с актуальными акциями и распродажами, чтобы увеличить конверсию</td>\n",
       "      <td>5</td>\n",
       "      <td>3</td>\n",
       "      <td>8</td>\n",
       "      <td>3</td>\n",
       "      <td>8.000000</td>\n",
       "      <td>40.0</td>\n",
       "    </tr>\n",
       "    <tr>\n",
       "      <th>8</th>\n",
       "      <td>Запустить акцию, дающую скидку на товар в день рождения</td>\n",
       "      <td>1</td>\n",
       "      <td>9</td>\n",
       "      <td>9</td>\n",
       "      <td>5</td>\n",
       "      <td>16.200000</td>\n",
       "      <td>16.2</td>\n",
       "    </tr>\n",
       "    <tr>\n",
       "      <th>3</th>\n",
       "      <td>Изменить структура категорий, что увеличит конверсию, т.к. пользователи быстрее найдут нужный товар</td>\n",
       "      <td>8</td>\n",
       "      <td>3</td>\n",
       "      <td>3</td>\n",
       "      <td>8</td>\n",
       "      <td>1.125000</td>\n",
       "      <td>9.0</td>\n",
       "    </tr>\n",
       "    <tr>\n",
       "      <th>1</th>\n",
       "      <td>Запустить собственную службу доставки, что сократит срок доставки заказов</td>\n",
       "      <td>2</td>\n",
       "      <td>5</td>\n",
       "      <td>4</td>\n",
       "      <td>10</td>\n",
       "      <td>2.000000</td>\n",
       "      <td>4.0</td>\n",
       "    </tr>\n",
       "    <tr>\n",
       "      <th>5</th>\n",
       "      <td>Добавить страницу отзывов клиентов о магазине, что позволит увеличить количество заказов</td>\n",
       "      <td>3</td>\n",
       "      <td>2</td>\n",
       "      <td>2</td>\n",
       "      <td>3</td>\n",
       "      <td>1.333333</td>\n",
       "      <td>4.0</td>\n",
       "    </tr>\n",
       "    <tr>\n",
       "      <th>4</th>\n",
       "      <td>Изменить цвет фона главной страницы, чтобы увеличить вовлеченность пользователей</td>\n",
       "      <td>3</td>\n",
       "      <td>1</td>\n",
       "      <td>1</td>\n",
       "      <td>1</td>\n",
       "      <td>1.000000</td>\n",
       "      <td>3.0</td>\n",
       "    </tr>\n",
       "  </tbody>\n",
       "</table>\n",
       "</div>"
      ],
      "text/plain": [
       "                                                                                                     hypothesis  \\\n",
       "7              Добавить форму подписки на все основные страницы, чтобы собрать базу клиентов для email-рассылок   \n",
       "2  Добавить блоки рекомендаций товаров на сайт интернет магазина, чтобы повысить конверсию и средний чек заказа   \n",
       "0            Добавить два новых канала привлечения трафика, что позволит привлекать на 30% больше пользователей   \n",
       "6          Показать на главной странице баннеры с актуальными акциями и распродажами, чтобы увеличить конверсию   \n",
       "8                                                       Запустить акцию, дающую скидку на товар в день рождения   \n",
       "3           Изменить структура категорий, что увеличит конверсию, т.к. пользователи быстрее найдут нужный товар   \n",
       "1                                     Запустить собственную службу доставки, что сократит срок доставки заказов   \n",
       "5                      Добавить страницу отзывов клиентов о магазине, что позволит увеличить количество заказов   \n",
       "4                              Изменить цвет фона главной страницы, чтобы увеличить вовлеченность пользователей   \n",
       "\n",
       "   reach  impact  confidence  efforts        ice   rice  \n",
       "7     10       7           8        5  11.200000  112.0  \n",
       "2      8       3           7        3   7.000000   56.0  \n",
       "0      3      10           8        6  13.333333   40.0  \n",
       "6      5       3           8        3   8.000000   40.0  \n",
       "8      1       9           9        5  16.200000   16.2  \n",
       "3      8       3           3        8   1.125000    9.0  \n",
       "1      2       5           4       10   2.000000    4.0  \n",
       "5      3       2           2        3   1.333333    4.0  \n",
       "4      3       1           1        1   1.000000    3.0  "
      ]
     },
     "metadata": {},
     "output_type": "display_data"
    }
   ],
   "source": [
    "#Выполним приоритизацию гипотез, создав дополнительный столбец во фрейме и используя фреймворк RICE\n",
    "hypothesis['rice'] = (hypothesis['reach'] * hypothesis['impact'] * hypothesis['confidence']) / hypothesis['efforts']\n",
    "display(hypothesis.sort_values(by='rice',ascending=False))"
   ]
  },
  {
   "cell_type": "markdown",
   "metadata": {},
   "source": [
    "Из полученных результатов видим, что здесь уже преобладают другие гипотезы **(Добавить форму подписки на все основные страницы, чтобы собрать базу клиентов для email-рассылок, Добавить блоки рекомендаций товаров на сайт интернет магазина, чтобы повысить конверсию и средний чек заказа, Добавить два новых канала привлечения трафика, что позволит привлекать на 30% больше пользователей)**. На первом месте оказалась гипотеза под номером 7(*Добавить форму подписки на все основные страницы, чтобы собрать базу клиентов для email-рассылок*),т.к у нее самый сильный показатель REACH (она охватит хотябы больше половины пользователей).А вот  0(*Добавить два новых канала привлечения трафика, что позволит привлекать на 30% больше пользователей*) гипотеза осталась, наверное потому что она очень сильно повлияет на пользователей."
   ]
  },
  {
   "cell_type": "markdown",
   "metadata": {},
   "source": [
    "## Анализ результатов A/B  теста"
   ]
  },
  {
   "cell_type": "markdown",
   "metadata": {},
   "source": [
    "### График кумулятивной выручки по группам"
   ]
  },
  {
   "cell_type": "code",
   "execution_count": 7,
   "metadata": {},
   "outputs": [
    {
     "name": "stdout",
     "output_type": "stream",
     "text": [
      "Всего пользователей одновременно находящихся в 2-х группах : 58\n",
      "Что составляет от всех пользователей 2-х групп : 6\n"
     ]
    },
    {
     "data": {
      "text/html": [
       "<div>\n",
       "<style scoped>\n",
       "    .dataframe tbody tr th:only-of-type {\n",
       "        vertical-align: middle;\n",
       "    }\n",
       "\n",
       "    .dataframe tbody tr th {\n",
       "        vertical-align: top;\n",
       "    }\n",
       "\n",
       "    .dataframe thead th {\n",
       "        text-align: right;\n",
       "    }\n",
       "</style>\n",
       "<table border=\"1\" class=\"dataframe\">\n",
       "  <thead>\n",
       "    <tr style=\"text-align: right;\">\n",
       "      <th></th>\n",
       "      <th>groups</th>\n",
       "      <th>group_names</th>\n",
       "    </tr>\n",
       "    <tr>\n",
       "      <th>visitor_id</th>\n",
       "      <th></th>\n",
       "      <th></th>\n",
       "    </tr>\n",
       "  </thead>\n",
       "  <tbody>\n",
       "    <tr>\n",
       "      <th>8300375</th>\n",
       "      <td>2</td>\n",
       "      <td>[B, A]</td>\n",
       "    </tr>\n",
       "    <tr>\n",
       "      <th>199603092</th>\n",
       "      <td>2</td>\n",
       "      <td>[A, B]</td>\n",
       "    </tr>\n",
       "    <tr>\n",
       "      <th>232979603</th>\n",
       "      <td>2</td>\n",
       "      <td>[B, A]</td>\n",
       "    </tr>\n",
       "    <tr>\n",
       "      <th>237748145</th>\n",
       "      <td>2</td>\n",
       "      <td>[B, A]</td>\n",
       "    </tr>\n",
       "    <tr>\n",
       "      <th>276558944</th>\n",
       "      <td>2</td>\n",
       "      <td>[B, A]</td>\n",
       "    </tr>\n",
       "  </tbody>\n",
       "</table>\n",
       "</div>"
      ],
      "text/plain": [
       "            groups group_names\n",
       "visitor_id                    \n",
       "8300375          2      [B, A]\n",
       "199603092        2      [A, B]\n",
       "232979603        2      [B, A]\n",
       "237748145        2      [B, A]\n",
       "276558944        2      [B, A]"
      ]
     },
     "metadata": {},
     "output_type": "display_data"
    }
   ],
   "source": [
    "#Прежде чем проверять стабильность кумулятивных метрик, выясним нормальноли распределены группы\n",
    "duplicated_users = orders.groupby('visitor_id').agg({'group' : ['nunique','unique']})\n",
    "duplicated_users.columns = ['groups','group_names']\n",
    "duplicated_users = duplicated_users.query('groups > 1')\n",
    "count_visitorid = len(orders['visitor_id'].unique())\n",
    "print('Всего пользователей одновременно находящихся в 2-х группах :',duplicated_users['groups'].count())\n",
    "print('Что составляет от всех пользователей 2-х групп :',round((duplicated_users['groups'].count() / count_visitorid)*100))\n",
    "display(duplicated_users.head(5))"
   ]
  },
  {
   "cell_type": "markdown",
   "metadata": {},
   "source": [
    "Из полученных данных видно, что есть пользователи(всего их 58,что составляет примерно 6 % от всех участвующих в эксперименте) , которые попали одновремено в обе группы, исключим их из выборки."
   ]
  },
  {
   "cell_type": "code",
   "execution_count": 8,
   "metadata": {},
   "outputs": [
    {
     "data": {
      "text/html": [
       "<div>\n",
       "<style scoped>\n",
       "    .dataframe tbody tr th:only-of-type {\n",
       "        vertical-align: middle;\n",
       "    }\n",
       "\n",
       "    .dataframe tbody tr th {\n",
       "        vertical-align: top;\n",
       "    }\n",
       "\n",
       "    .dataframe thead th {\n",
       "        text-align: right;\n",
       "    }\n",
       "</style>\n",
       "<table border=\"1\" class=\"dataframe\">\n",
       "  <thead>\n",
       "    <tr style=\"text-align: right;\">\n",
       "      <th></th>\n",
       "      <th>transaction_id</th>\n",
       "      <th>visitor_id</th>\n",
       "      <th>date</th>\n",
       "      <th>revenue</th>\n",
       "      <th>group</th>\n",
       "    </tr>\n",
       "  </thead>\n",
       "  <tbody>\n",
       "    <tr>\n",
       "      <th>0</th>\n",
       "      <td>3667963787</td>\n",
       "      <td>3312258926</td>\n",
       "      <td>2019-08-15</td>\n",
       "      <td>1650</td>\n",
       "      <td>B</td>\n",
       "    </tr>\n",
       "    <tr>\n",
       "      <th>1</th>\n",
       "      <td>2804400009</td>\n",
       "      <td>3642806036</td>\n",
       "      <td>2019-08-15</td>\n",
       "      <td>730</td>\n",
       "      <td>B</td>\n",
       "    </tr>\n",
       "    <tr>\n",
       "      <th>2</th>\n",
       "      <td>2961555356</td>\n",
       "      <td>4069496402</td>\n",
       "      <td>2019-08-15</td>\n",
       "      <td>400</td>\n",
       "      <td>A</td>\n",
       "    </tr>\n",
       "    <tr>\n",
       "      <th>3</th>\n",
       "      <td>3797467345</td>\n",
       "      <td>1196621759</td>\n",
       "      <td>2019-08-15</td>\n",
       "      <td>9759</td>\n",
       "      <td>B</td>\n",
       "    </tr>\n",
       "    <tr>\n",
       "      <th>4</th>\n",
       "      <td>2282983706</td>\n",
       "      <td>2322279887</td>\n",
       "      <td>2019-08-15</td>\n",
       "      <td>2308</td>\n",
       "      <td>B</td>\n",
       "    </tr>\n",
       "  </tbody>\n",
       "</table>\n",
       "</div>"
      ],
      "text/plain": [
       "   transaction_id  visitor_id        date  revenue group\n",
       "0      3667963787  3312258926  2019-08-15     1650     B\n",
       "1      2804400009  3642806036  2019-08-15      730     B\n",
       "2      2961555356  4069496402  2019-08-15      400     A\n",
       "3      3797467345  1196621759  2019-08-15     9759     B\n",
       "4      2282983706  2322279887  2019-08-15     2308     B"
      ]
     },
     "metadata": {},
     "output_type": "display_data"
    }
   ],
   "source": [
    "clear_orders = orders.query('visitor_id not in @duplicated_users')\n",
    "display(clear_orders.head(5))"
   ]
  },
  {
   "cell_type": "code",
   "execution_count": 9,
   "metadata": {},
   "outputs": [
    {
     "name": "stdout",
     "output_type": "stream",
     "text": [
      "         date group  buyers  revenue  visitors\n",
      "0  2019-08-01     A      20   148579       719\n",
      "1  2019-08-01     B      20   101217       713\n",
      "2  2019-08-02     A      38   242401      1338\n",
      "3  2019-08-02     B      43   266748      1294\n",
      "4  2019-08-03     A      62   354874      1845\n"
     ]
    }
   ],
   "source": [
    "# создаем массив уникальных пар значений дат и групп теста\n",
    "datesGroups = clear_orders[['date','group']].drop_duplicates()\n",
    "\n",
    "# получаем агрегированные кумулятивные по дням данные о заказах \n",
    "ordersAggregated = datesGroups.apply(lambda x: clear_orders[np.logical_and(clear_orders['date'] <= x['date'], clear_orders['group'] == x['group'])].agg({'date' : 'max', 'group' : 'max', 'visitor_id' : 'nunique', 'revenue' : 'sum'}), axis=1).sort_values(by=['date','group'])\n",
    "\n",
    "# получаем агрегированные кумулятивные по дням данные о посетителях интернет-магазина \n",
    "visitorsAggregated = datesGroups.apply(lambda x: visitors[np.logical_and(visitors['date'] <= x['date'], visitors['group'] == x['group'])].agg({'date' : 'max', 'group' : 'max', 'visitors' : 'sum'}), axis=1).sort_values(by=['date','group'])\n",
    "\n",
    "# объединяем кумулятивные данные в одной таблице и присваиваем ее столбцам понятные названия\n",
    "cumulativeData = ordersAggregated.merge(visitorsAggregated, left_on=['date', 'group'], right_on=['date', 'group'])\n",
    "cumulativeData.columns = ['date', 'group', 'buyers', 'revenue', 'visitors']\n",
    "cumulativeData_min = cumulativeData['date'].min()\n",
    "cumulativeData_max = cumulativeData['date'].max()\n",
    "print(cumulativeData.head(5)) "
   ]
  },
  {
   "cell_type": "code",
   "execution_count": 10,
   "metadata": {},
   "outputs": [
    {
     "data": {
      "image/png": "[encoded data removed]",
      "text/plain": [
       "<Figure size 432x288 with 1 Axes>"
      ]
     },
     "metadata": {
      "needs_background": "light"
     },
     "output_type": "display_data"
    }
   ],
   "source": [
    "#Построим графики кумулятивной выручки по дням и группам A/B тестирования\n",
    "# датафрейм с кумулятивным количеством заказов и кумулятивной выручкой по дням в группе А\n",
    "cumulativeRevenueA = cumulativeData[cumulativeData['group']=='A'][['date','revenue', 'buyers']]\n",
    "\n",
    "# датафрейм с кумулятивным количеством заказов и кумулятивной выручкой по дням в группе B\n",
    "cumulativeRevenueB = cumulativeData[cumulativeData['group']=='B'][['date','revenue', 'buyers']]\n",
    "\n",
    "# Строим график выручки группы А\n",
    "plt.plot(cumulativeRevenueA['date'], cumulativeRevenueA['revenue'], label='A')\n",
    "\n",
    "# Строим график выручки группы B\n",
    "plt.plot(cumulativeRevenueB['date'], cumulativeRevenueB['revenue'], label='B')\n",
    "\n",
    "\n",
    "plt.title('Графики кумулятивной выручки по дням и группам A/B тестирования')\n",
    "plt.ylabel('день теста')\n",
    "plt.xticks(rotation=90)\n",
    "plt.grid(True)\n",
    "plt.xlabel('дата проведения теста')\n",
    "plt.legend() \n",
    "plt.show()"
   ]
  },
  {
   "cell_type": "markdown",
   "metadata": {},
   "source": [
    "В начале эксперимента видно, что выручка сперва распределялась равномерно в 2-х группах, с некоторыми скачками, но потом группа B резко пошла на увеличение. Это может нам говорить об увеличении числа заказаов, либо об резком увеличении суммы заказаов(не исключено, что это могут быть и просто выбросы)"
   ]
  },
  {
   "cell_type": "markdown",
   "metadata": {},
   "source": [
    "### График средней выручки по чекам"
   ]
  },
  {
   "cell_type": "code",
   "execution_count": 11,
   "metadata": {},
   "outputs": [
    {
     "data": {
      "image/png": "[encoded data removed]",
      "text/plain": [
       "<Figure size 432x288 with 1 Axes>"
      ]
     },
     "metadata": {
      "needs_background": "light"
     },
     "output_type": "display_data"
    }
   ],
   "source": [
    "#Далее построим графики среднего чека по группам\n",
    "plt.plot(cumulativeRevenueA['date'], cumulativeRevenueA['revenue']/cumulativeRevenueA['buyers'], label='A')\n",
    "plt.plot(cumulativeRevenueB['date'], cumulativeRevenueB['revenue']/cumulativeRevenueB['buyers'], label='B')\n",
    "plt.legend() \n",
    "plt.title('График средней выручки по чекам')\n",
    "plt.xticks(rotation=90)\n",
    "plt.grid(True)\n",
    "plt.xlabel('Даты')\n",
    "plt.ylabel('Средний чек')\n",
    "plt.show()"
   ]
  },
  {
   "cell_type": "markdown",
   "metadata": {},
   "source": [
    "На графике видно, что среднее значение чека сильно изменяются и толькоближе к концу эксперимента они стабилизируются. Показатели группы B по отношению к показателям группы A отличаются значительно, так же на графике заметны сильные всплески, что больше похоже на выбросы."
   ]
  },
  {
   "cell_type": "markdown",
   "metadata": {},
   "source": [
    "### График относительного изменения кумулятивного среднего чека группы B к группе A"
   ]
  },
  {
   "cell_type": "code",
   "execution_count": 12,
   "metadata": {},
   "outputs": [
    {
     "data": {
      "image/png": "[encoded data removed]",
      "text/plain": [
       "<Figure size 432x288 with 1 Axes>"
      ]
     },
     "metadata": {
      "needs_background": "light"
     },
     "output_type": "display_data"
    }
   ],
   "source": [
    "#Построим график относительного различия для среднего чека. Добавим горизонтальную ось методом axhline() \n",
    "# собираем данные в одном датафрейме\n",
    "mergedCumulativeRevenue = cumulativeRevenueA.merge(cumulativeRevenueB, left_on='date', right_on='date', how='left', suffixes=['A', 'B'])\n",
    "\n",
    "# cтроим отношение средних чеков\n",
    "plt.plot(mergedCumulativeRevenue['date'], (mergedCumulativeRevenue['revenueB']/mergedCumulativeRevenue['buyersB'])/(mergedCumulativeRevenue['revenueA']/mergedCumulativeRevenue['buyersA'])-1)\n",
    "\n",
    "# добавляем ось X\n",
    "plt.axhline(y=0, color='red', linestyle='--') \n",
    "plt.title('График относительного изменения кумулятивного среднего чека группы B к группе A')\n",
    "plt.xticks(rotation=90)\n",
    "plt.grid(True)\n",
    "plt.xlabel('Даты')\n",
    "plt.ylabel('Отношение среднего значения чека B к A')\n",
    "plt.show()"
   ]
  },
  {
   "cell_type": "markdown",
   "metadata": {},
   "source": [
    "В нескольких точках график сильно поднимается вверх, здесь точно есть большие заказы и выбросы."
   ]
  },
  {
   "cell_type": "markdown",
   "metadata": {},
   "source": [
    "### График куммулятивной конверсии по группам"
   ]
  },
  {
   "cell_type": "code",
   "execution_count": 13,
   "metadata": {},
   "outputs": [
    {
     "data": {
      "image/png": "[encoded data removed]",
      "text/plain": [
       "<Figure size 432x288 with 1 Axes>"
      ]
     },
     "metadata": {
      "needs_background": "light"
     },
     "output_type": "display_data"
    }
   ],
   "source": [
    "# считаем кумулятивную конверсию\n",
    "cumulativeData['conversion'] = cumulativeData['buyers'] / cumulativeData['visitors']\n",
    "#display(cumulativeData.head(5))\n",
    "# отделяем данные по группе A\n",
    "cumulativeDataA = cumulativeData[cumulativeData['group'] =='A']\n",
    "# отделяем данные по группе B\n",
    "cumulativeDataB = cumulativeData[cumulativeData['group'] =='B']\n",
    "# строим графики\n",
    "plt.plot(cumulativeDataA['date'], cumulativeDataA['conversion'], label='A')\n",
    "plt.plot(cumulativeDataB['date'], cumulativeDataB['conversion'], label='B')\n",
    "plt.legend()\n",
    "plt.title('График куммулятивной конверсии по группам')\n",
    "plt.xticks(rotation=90)\n",
    "plt.grid(True)\n",
    "plt.xlabel('Даты')\n",
    "plt.ylabel('Конверсия')\n",
    "# задаем масштаб осей\n",
    "\n",
    "plt.axis([cumulativeData_min,cumulativeData_max,0,0.035]) \n",
    "plt.show()"
   ]
  },
  {
   "cell_type": "markdown",
   "metadata": {},
   "source": [
    "Симметричный график получился. Водном моменте группы начали одинаково,потом продолжили так же падатьвместе,только вот после падения группа B смогла восстановиться,а группа A продолжила падение,зафиксировав свое падение ближе к концу эксперимента."
   ]
  },
  {
   "cell_type": "markdown",
   "metadata": {},
   "source": [
    "### График относительного различия кумулятивных значений конверсий"
   ]
  },
  {
   "cell_type": "code",
   "execution_count": 14,
   "metadata": {},
   "outputs": [
    {
     "data": {
      "image/png": "[encoded data removed]",
      "text/plain": [
       "<Figure size 432x288 with 1 Axes>"
      ]
     },
     "metadata": {
      "needs_background": "light"
     },
     "output_type": "display_data"
    }
   ],
   "source": [
    "#Построим график относительного различия кумулятивных конверсий\n",
    "mergedCumulativeConversions = cumulativeDataA[['date','conversion']].merge(cumulativeDataB[['date','conversion']], left_on='date', right_on='date', how='left', suffixes=['A', 'B'])\n",
    "\n",
    "plt.plot(mergedCumulativeConversions['date'], mergedCumulativeConversions['conversionB']/mergedCumulativeConversions['conversionA']-1, label=\"Относительный прирост конверсии группы B относительно группы A\")\n",
    "#plt.legend()\n",
    "\n",
    "plt.axhline(y=0, color='black', linestyle='--')\n",
    "plt.axhline(y=-0.1, color='grey', linestyle='--')\n",
    "plt.axis([cumulativeData_min, cumulativeData_max, -0.3, 0.3]) \n",
    "plt.title('Относительный прирост конверсии группы B относительно группы A')\n",
    "plt.xticks(rotation=90)\n",
    "plt.grid(True)\n",
    "plt.xlabel('Даты')\n",
    "plt.ylabel('Уровень прироста')\n",
    "plt.show()"
   ]
  },
  {
   "cell_type": "markdown",
   "metadata": {},
   "source": [
    "Исследуя график видим, что в самом начале конверсия группы В по отношению  к другой группе возрастала,потом она упала,спустя какой-то промежуток времени она вновь начала увеличиваться. В целом значение конверсии еще не установилось и делать какие-либо окончательные выводы пока рано."
   ]
  },
  {
   "cell_type": "markdown",
   "metadata": {},
   "source": [
    "### График количества заказов по пользователям"
   ]
  },
  {
   "cell_type": "code",
   "execution_count": 15,
   "metadata": {},
   "outputs": [
    {
     "data": {
      "image/png": "[encoded data removed]",
      "text/plain": [
       "<Figure size 432x288 with 1 Axes>"
      ]
     },
     "metadata": {
      "needs_background": "light"
     },
     "output_type": "display_data"
    }
   ],
   "source": [
    "#Построим точечный график кол-ва заказов по пользователям\n",
    "count_orders = clear_orders.groupby('visitor_id').agg({'visitor_id':'count'})\n",
    "count_orders.columns = ['count']\n",
    "#display(count_orders)\n",
    "x_values = pd.Series(range(0,len(count_orders['count'])))\n",
    "plt.scatter(x_values, count_orders['count']) \n",
    "plt.title('Точечный график кол-ва заказов по пользователям')\n",
    "plt.xlabel('Пользователи (чел.)')\n",
    "plt.ylabel('Кол-во заказов (шт.)')\n",
    "plt.show()"
   ]
  },
  {
   "cell_type": "markdown",
   "metadata": {},
   "source": [
    "Как и предпологал, есть пользователи, которые сделали заказов больше 4, можно предположить, что это и будет нижней границей выбросов.Однако принято отсеивать от 1% до 5% наблюдений с крайними значениями. Посмотрим так ли это на самом деле, вычислив перцентели 95-й и 99-й."
   ]
  },
  {
   "cell_type": "code",
   "execution_count": 16,
   "metadata": {},
   "outputs": [
    {
     "name": "stdout",
     "output_type": "stream",
     "text": [
      "[2. 4.]\n"
     ]
    }
   ],
   "source": [
    "#Найдем перцентели заказов (95-й и 99-й)\n",
    "print(np.percentile(count_orders['count'],[95,99]))"
   ]
  },
  {
   "cell_type": "markdown",
   "metadata": {},
   "source": [
    "Не более 5% пользователей сделало заказов больше 2 и не более 1 % сделали 4 и более заказов."
   ]
  },
  {
   "cell_type": "markdown",
   "metadata": {},
   "source": [
    "### График стоимостей заказов"
   ]
  },
  {
   "cell_type": "code",
   "execution_count": 17,
   "metadata": {},
   "outputs": [
    {
     "data": {
      "image/png": "[encoded data removed]",
      "text/plain": [
       "<Figure size 432x288 with 1 Axes>"
      ]
     },
     "metadata": {
      "needs_background": "light"
     },
     "output_type": "display_data"
    }
   ],
   "source": [
    "x2_values = pd.Series(range(0,len(clear_orders['revenue'])))\n",
    "plt.scatter(x2_values, clear_orders['revenue']) \n",
    "plt.title('График стоимостей заказов')\n",
    "plt.xlabel('Кол-во заказов (шт.)')\n",
    "plt.ylabel('Стоимость заказов (млн.)')\n",
    "plt.show()"
   ]
  },
  {
   "cell_type": "markdown",
   "metadata": {},
   "source": [
    "Судя по графику можно сказать, что выбросов то и нету практически, посмотрим на процентное соотношение."
   ]
  },
  {
   "cell_type": "code",
   "execution_count": 18,
   "metadata": {},
   "outputs": [
    {
     "name": "stdout",
     "output_type": "stream",
     "text": [
      "[28000.  58233.2]\n"
     ]
    }
   ],
   "source": [
    "print(np.percentile(clear_orders['revenue'], [95, 99]))"
   ]
  },
  {
   "cell_type": "markdown",
   "metadata": {},
   "source": [
    "Не более 5% заказы дороже 28000 и не более 1 % заказы дороже 58233."
   ]
  },
  {
   "cell_type": "markdown",
   "metadata": {},
   "source": [
    "### Статистическая значимость различий в конверсии между группами(по сырым данным)"
   ]
  },
  {
   "cell_type": "markdown",
   "metadata": {},
   "source": [
    "Для того, чтобы выполнять дальнейшие рассчеты необходимо сформулировать гипотезы, которые далее следует проверить\n",
    "**Нулевая: различий в конверсии между группами нет.\n",
    "Альтернативная: различия в конверсии между группами есть.**"
   ]
  },
  {
   "cell_type": "code",
   "execution_count": 43,
   "metadata": {},
   "outputs": [
    {
     "name": "stdout",
     "output_type": "stream",
     "text": [
      "0.017\n",
      "0.138\n"
     ]
    }
   ],
   "source": [
    "visitsA, visitsB = visitors.query('group == \"A\"'), visitors.query('group == \"B\"')\n",
    "ordersA = orders.query('group == \"A\"').groupby('visitor_id')\\\n",
    "                .agg({'transaction_id': 'nunique', 'revenue': 'sum'}).rename(columns = {'transaction_id': 'orders'})\n",
    "ordersB = orders.query('group == \"B\"').groupby('visitor_id')\\\n",
    "                .agg({'transaction_id': 'nunique', 'revenue': 'sum'}).rename(columns = {'transaction_id': 'orders'})\n",
    "\n",
    "# [0] * (visitsA['visitors'].sum() - ordersA.shape[0])\n",
    "# это массив из нулей длинной visitsA['visitors'].sum() - ordersA.shape[0]\n",
    "sampleA = ordersA['orders'].append(pd.Series([0] * (visitsA['visitors'].sum() - ordersA.shape[0]), name = 'orders'))\n",
    "sampleB = ordersB['orders'].append(pd.Series([0] * (visitsB['visitors'].sum() - ordersB.shape[0]), name = 'orders'))\n",
    "\n",
    "\n",
    "print(\"{0:.3f}\".format(stats.mannwhitneyu(sampleA, sampleB)[1]))\n",
    "print(\"{0:.3f}\".format(sampleB.mean() / sampleA.mean() - 1))"
   ]
  },
  {
   "cell_type": "markdown",
   "metadata": {},
   "source": [
    "Видим, что  число — p-value = 0.017 меньше 0.05. Значит, нулевую гипотезу о том, что статистически значимых различий в конверсии между группами нет, отвергаем. Значит различия между группами наблюдается."
   ]
  },
  {
   "cell_type": "markdown",
   "metadata": {},
   "source": [
    "### Статистическая значимость различий в среднем чеке между группами(по сырым данным)"
   ]
  },
  {
   "cell_type": "markdown",
   "metadata": {},
   "source": [
    "Теперь необходимо проверить статистическую значимость различий в среднем чеке между сегментами.Определим гипотезы.\n",
    "**Нулевая гипотеза: различий в среднем чеке между группами нет.\n",
    "Альтернативная гипотеза: различия в среднем чеке между группами есть.**"
   ]
  },
  {
   "cell_type": "code",
   "execution_count": 20,
   "metadata": {},
   "outputs": [
    {
     "name": "stdout",
     "output_type": "stream",
     "text": [
      "0.729\n",
      "0.259\n"
     ]
    }
   ],
   "source": [
    "#Чтобы рассчитать статистическую значимость различий в среднем чеке, \n",
    "#передадим критерию mannwhitneyu() данные о выручке с заказов.\n",
    "#А ещё найдём относительные различия в среднем чеке между группами:\n",
    "print('{0:.3f}'.format(stats.mannwhitneyu(orders[orders['group']=='A']['revenue'], orders[orders['group']=='B']['revenue'])[1]))\n",
    "print('{0:.3f}'.format(orders[orders['group']=='B']['revenue'].mean()/orders[orders['group']=='A']['revenue'].mean()-1)) "
   ]
  },
  {
   "cell_type": "markdown",
   "metadata": {},
   "source": [
    "Нулевую гипотезу не отвергаем,т.к p-value = 0.729  больше 0.05( различий в среднем чеке нет).Впрочем, средний чек в группе В значительно выше среднего чека группы А."
   ]
  },
  {
   "cell_type": "code",
   "execution_count": 21,
   "metadata": {},
   "outputs": [
    {
     "name": "stdout",
     "output_type": "stream",
     "text": [
      "199603092             4\n",
      "2038680547            5\n",
      "2458001652            6\n",
      "4256040402            7\n",
      "1099          148427295\n",
      "dtype: int64\n",
      "(61,)\n"
     ]
    }
   ],
   "source": [
    "#Найдем аномальных пользователей,т.е тех,кто совершил от 4-х заказов или совершил заказа дороже 28000\n",
    "#display(ordersA.head(45))\n",
    "#ordersA.info()\n",
    "usersWithManyOrders = pd.concat(\n",
    "    [\n",
    "        ordersA[ordersA['orders'] >= 4]['orders'],\n",
    "        ordersB[ordersB['orders'] >= 4]['orders'],\n",
    "    ],\n",
    "    axis=0,\n",
    ")\n",
    "usersWithExpensiveOrders = orders[orders['revenue'] > 28000]['visitor_id']\n",
    "abnormalUsers = (\n",
    "    pd.concat([usersWithManyOrders, usersWithExpensiveOrders], axis=0)\n",
    "    .drop_duplicates()\n",
    "    .sort_values()\n",
    ")\n",
    "print(abnormalUsers.head(5))\n",
    "print(abnormalUsers.shape) "
   ]
  },
  {
   "cell_type": "markdown",
   "metadata": {},
   "source": [
    "В результате получился всего **61** аномальный пользователь. Далее необходимобудет проверить как ихдействия повлияли на результаты теста."
   ]
  },
  {
   "cell_type": "markdown",
   "metadata": {},
   "source": [
    "### Статистическая значимость различий в конверсии между группами(по чистым данным)"
   ]
  },
  {
   "cell_type": "markdown",
   "metadata": {},
   "source": [
    "Выполним необходимые рассчеты , сформулировав гипотезы, которые далее проверим.\n",
    "**Нулевая: различий в конверсии между группами нет.\n",
    "Альтернативная: различия в конверсии между группами есть.**"
   ]
  },
  {
   "cell_type": "code",
   "execution_count": 57,
   "metadata": {},
   "outputs": [
    {
     "name": "stdout",
     "output_type": "stream",
     "text": [
      "0.019\n",
      "0.140\n"
     ]
    }
   ],
   "source": [
    "# Найдем Статистическая значимость различий в конверсии между группами используя чистые данные\n",
    "#sampleAFiltered = ordersA['orders'].isin(abnormalUsers).append(pd.Series([0] * (visitsA['visitors'].sum() - ordersA.shape[0]), name = 'orders'))\n",
    "#sampleBFiltered = ordersB['orders'].isin(abnormalUsers).append(pd.Series([0] * (visitsB['visitors'].sum() - ordersB.shape[0]), name = 'orders'))\n",
    "orders_A =  (\n",
    "    orders[orders['group'] == 'A']\n",
    "    .groupby('visitor_id', as_index=False)\n",
    "    .agg({'transaction_id': pd.Series.nunique})\n",
    "    .rename(columns = {'transaction_id': 'orders'})\n",
    ")\n",
    "\n",
    "orders_B =  (\n",
    "    orders[orders['group'] == 'B']\n",
    "    .groupby('visitor_id', as_index=False)\n",
    "    .agg({'transaction_id': pd.Series.nunique})\n",
    "    .rename(columns = {'transaction_id': 'orders'})\n",
    ")\n",
    "\n",
    "\n",
    "sample_A_filtered = pd.concat([orders_A[np.logical_not(orders_A['visitor_id'].isin(abnormalUsers))]['orders'],\n",
    "                    pd.Series(0,index=np.arange(visitsA['visitors'].sum() - len(orders_A['orders'])),\n",
    "                    name='orders',),],axis=0,)\n",
    "\n",
    "sample_B_filtered = pd.concat([orders_B[np.logical_not(orders_B['visitor_id'].isin(abnormalUsers))]['orders'],\n",
    "                    pd.Series(0,index=np.arange(visitsB['visitors'].sum() - len(orders_B['orders'])),\n",
    "                    name='orders',),],axis=0,)\n",
    "\n",
    "print('{0:.3f}'.format(stats.mannwhitneyu(sample_A_filtered, sample_B_filtered)[1]))\n",
    "print('{0:.3f}'.format(sample_B_filtered.mean()/sample_A_filtered.mean()-1)) "
   ]
  },
  {
   "cell_type": "markdown",
   "metadata": {},
   "source": [
    "Видим, что по \"очищенным\" данным, число — p-value = 0.019(по \"неочищенным\" данным p-value = 0.017, что значительно меньше 0.05. Значит, нулевую гипотезу о том, что статистически значимых различий в конверсии между группами нет, отвергаем. Значит различия между группами наблюдается."
   ]
  },
  {
   "cell_type": "markdown",
   "metadata": {},
   "source": [
    "### Статистическая значимость различий в конверсии между группами(по очищенным данным)"
   ]
  },
  {
   "cell_type": "code",
   "execution_count": 59,
   "metadata": {},
   "outputs": [
    {
     "name": "stdout",
     "output_type": "stream",
     "text": [
      "0.863\n",
      "-0.013\n"
     ]
    }
   ],
   "source": [
    "#print('{0:.3f}'.format(stats.mannwhitneyu(orders[orders['group']=='A']['revenue'].isin(abnormalUsers), orders[orders['group']=='B']['revenue'].isin(abnormalUsers))[1]))\n",
    "print(\n",
    "    '{0:.3f}'.format(\n",
    "        stats.mannwhitneyu(\n",
    "            orders[\n",
    "                np.logical_and(\n",
    "                    orders['group'] == 'A',\n",
    "                    np.logical_not(orders['visitor_id'].isin(abnormalUsers)),\n",
    "                )\n",
    "            ]['revenue'],\n",
    "            orders[\n",
    "                np.logical_and(\n",
    "                    orders['group'] == 'B',\n",
    "                    np.logical_not(orders['visitor_id'].isin(abnormalUsers)),\n",
    "                )\n",
    "            ]['revenue'],\n",
    "        )[1]\n",
    "    )\n",
    ")\n",
    "#print('{0:.3f}'.format(orders[orders['group']=='B']['revenue'].mean()/orders[orders['group']=='A']['revenue'].mean()-1)) \n",
    "print(\n",
    "    \"{0:.3f}\".format(\n",
    "        orders[\n",
    "            np.logical_and(\n",
    "                orders['group'] == 'B',\n",
    "                np.logical_not(orders['visitor_id'].isin(abnormalUsers)),\n",
    "            )\n",
    "        ]['revenue'].mean()\n",
    "        / orders[\n",
    "            np.logical_and(\n",
    "                orders['group'] == 'A',\n",
    "                np.logical_not(orders['visitor_id'].isin(abnormalUsers)),\n",
    "            )\n",
    "        ]['revenue'].mean()\n",
    "        - 1\n",
    "    )\n",
    ") "
   ]
  },
  {
   "cell_type": "markdown",
   "metadata": {},
   "source": [
    "P-value увеличился  и разница между сегментами изменилась незначительно(с 1% до 1.3 %)."
   ]
  },
  {
   "cell_type": "markdown",
   "metadata": {},
   "source": [
    "## Вывод"
   ]
  },
  {
   "cell_type": "markdown",
   "metadata": {},
   "source": [
    "В ходе проведения эксперимента, на этапе предобработки данных не было выявлено дубликатов и пропусков в данных, были подкорректированы названия столбцов(приведены к единому стилю). Были расставлены приоритеты гипотез и выявлено, на какой из гипотез стоит сосредоточиться. Далее был проведен так называемый A/B тест. В ходе проведения этого теста(эксперимента) все покупатели интернет-магазина были поделены да 2 группы. Далее исследуя полученные группы выяснилось, что некоторые пользователи попали в 2 группы (уже на данном этапе можно было прервать эксперимент и пойти выяснять у менеджеров как так они оказались и там и тут?). После чего эксперимент продолжился, были проверены статистически значимые значения по \"чистым\" данным и по \"грязным\", опираясь на полученные значения, было принято решение, что эксперимент надо остановить, так разницы между группамисущественной нет, если не братьв рассчет то,что в группе В были \"токсичные данные\", которые мешали нормальному проведению эксперимента. Это можно так же было заметить по графику средней выручки по чекам(есть резкий скачок вверх)."
   ]
  },
  {
   "cell_type": "code",
   "execution_count": null,
   "metadata": {},
   "outputs": [],
   "source": []
  }
 ],
 "metadata": {
  "ExecuteTimeLog": [
   {
    "duration": 91,
    "start_time": "2022-03-23T13:54:16.334Z"
   },
   {
    "duration": 564,
    "start_time": "2022-03-23T13:54:24.526Z"
   },
   {
    "duration": 79,
    "start_time": "2022-03-23T13:54:53.941Z"
   },
   {
    "duration": 17,
    "start_time": "2022-03-23T14:04:27.534Z"
   },
   {
    "duration": 7,
    "start_time": "2022-03-23T14:08:04.871Z"
   },
   {
    "duration": 8,
    "start_time": "2022-03-23T14:08:15.512Z"
   },
   {
    "duration": 8,
    "start_time": "2022-03-23T14:08:33.190Z"
   },
   {
    "duration": 486,
    "start_time": "2022-03-23T14:12:03.864Z"
   },
   {
    "duration": 12,
    "start_time": "2022-03-23T14:12:30.000Z"
   },
   {
    "duration": 25,
    "start_time": "2022-03-23T14:15:38.925Z"
   },
   {
    "duration": 16,
    "start_time": "2022-03-23T14:23:15.301Z"
   },
   {
    "duration": 18,
    "start_time": "2022-03-23T14:28:43.139Z"
   },
   {
    "duration": 156,
    "start_time": "2022-03-23T15:29:01.532Z"
   },
   {
    "duration": 138,
    "start_time": "2022-03-23T15:29:35.424Z"
   },
   {
    "duration": 121,
    "start_time": "2022-03-23T15:31:01.737Z"
   },
   {
    "duration": 140,
    "start_time": "2022-03-23T15:31:14.872Z"
   },
   {
    "duration": 137,
    "start_time": "2022-03-23T15:31:51.957Z"
   },
   {
    "duration": 121,
    "start_time": "2022-03-23T15:32:13.881Z"
   },
   {
    "duration": 14,
    "start_time": "2022-03-23T15:35:32.544Z"
   },
   {
    "duration": 12,
    "start_time": "2022-03-23T15:39:37.813Z"
   },
   {
    "duration": 656,
    "start_time": "2022-03-23T15:39:48.493Z"
   },
   {
    "duration": 45,
    "start_time": "2022-03-23T15:41:02.470Z"
   },
   {
    "duration": 75,
    "start_time": "2022-03-23T15:41:27.284Z"
   },
   {
    "duration": 36,
    "start_time": "2022-03-23T15:41:35.234Z"
   },
   {
    "duration": 831,
    "start_time": "2022-03-23T15:46:11.735Z"
   },
   {
    "duration": 411,
    "start_time": "2022-03-23T15:46:40.390Z"
   },
   {
    "duration": 18,
    "start_time": "2022-03-23T15:49:58.710Z"
   },
   {
    "duration": 496,
    "start_time": "2022-03-23T15:50:18.788Z"
   },
   {
    "duration": 206,
    "start_time": "2022-03-23T15:51:46.731Z"
   },
   {
    "duration": 99,
    "start_time": "2022-03-23T15:52:01.079Z"
   },
   {
    "duration": 211,
    "start_time": "2022-03-23T15:52:17.871Z"
   },
   {
    "duration": 268,
    "start_time": "2022-03-23T15:52:36.064Z"
   },
   {
    "duration": 577,
    "start_time": "2022-03-23T15:52:59.080Z"
   },
   {
    "duration": 364,
    "start_time": "2022-03-23T15:56:50.837Z"
   },
   {
    "duration": 397,
    "start_time": "2022-03-23T15:58:46.128Z"
   },
   {
    "duration": 399,
    "start_time": "2022-03-23T15:59:35.422Z"
   },
   {
    "duration": 399,
    "start_time": "2022-03-23T15:59:57.443Z"
   },
   {
    "duration": 404,
    "start_time": "2022-03-23T16:00:07.149Z"
   },
   {
    "duration": 938,
    "start_time": "2022-03-24T08:24:15.092Z"
   },
   {
    "duration": 11,
    "start_time": "2022-03-24T08:24:16.032Z"
   },
   {
    "duration": 5,
    "start_time": "2022-03-24T08:24:16.045Z"
   },
   {
    "duration": 19,
    "start_time": "2022-03-24T08:24:16.052Z"
   },
   {
    "duration": 36,
    "start_time": "2022-03-24T08:24:16.073Z"
   },
   {
    "duration": 16,
    "start_time": "2022-03-24T08:24:16.111Z"
   },
   {
    "duration": 130,
    "start_time": "2022-03-24T08:24:16.129Z"
   },
   {
    "duration": 10,
    "start_time": "2022-03-24T08:24:16.260Z"
   },
   {
    "duration": 256,
    "start_time": "2022-03-24T08:24:16.272Z"
   },
   {
    "duration": 271,
    "start_time": "2022-03-24T08:24:16.530Z"
   },
   {
    "duration": 3233,
    "start_time": "2022-03-24T08:53:04.848Z"
   },
   {
    "duration": 12,
    "start_time": "2022-03-24T08:54:32.770Z"
   },
   {
    "duration": 955,
    "start_time": "2022-03-24T12:55:25.987Z"
   },
   {
    "duration": 12,
    "start_time": "2022-03-24T12:55:26.944Z"
   },
   {
    "duration": 8,
    "start_time": "2022-03-24T12:55:26.958Z"
   },
   {
    "duration": 33,
    "start_time": "2022-03-24T12:55:26.968Z"
   },
   {
    "duration": 12,
    "start_time": "2022-03-24T12:55:27.003Z"
   },
   {
    "duration": 21,
    "start_time": "2022-03-24T12:55:27.017Z"
   },
   {
    "duration": 89,
    "start_time": "2022-03-24T12:55:27.039Z"
   },
   {
    "duration": 11,
    "start_time": "2022-03-24T12:55:27.130Z"
   },
   {
    "duration": 285,
    "start_time": "2022-03-24T12:55:27.143Z"
   },
   {
    "duration": 92,
    "start_time": "2022-03-24T12:55:27.431Z"
   },
   {
    "duration": 0,
    "start_time": "2022-03-24T12:55:27.525Z"
   },
   {
    "duration": 299,
    "start_time": "2022-03-24T12:57:59.168Z"
   },
   {
    "duration": 257,
    "start_time": "2022-03-24T12:58:18.021Z"
   },
   {
    "duration": 257,
    "start_time": "2022-03-24T12:58:32.121Z"
   },
   {
    "duration": 2533,
    "start_time": "2022-03-24T13:07:46.484Z"
   },
   {
    "duration": 267,
    "start_time": "2022-03-24T13:09:46.782Z"
   },
   {
    "duration": 470,
    "start_time": "2022-03-24T13:10:24.242Z"
   },
   {
    "duration": 356,
    "start_time": "2022-03-24T13:10:55.933Z"
   },
   {
    "duration": 389,
    "start_time": "2022-03-24T13:12:17.553Z"
   },
   {
    "duration": 9,
    "start_time": "2022-03-24T13:19:45.883Z"
   },
   {
    "duration": 9,
    "start_time": "2022-03-24T13:20:20.170Z"
   },
   {
    "duration": 10,
    "start_time": "2022-03-24T13:20:50.270Z"
   },
   {
    "duration": 2360,
    "start_time": "2022-03-24T13:21:10.003Z"
   },
   {
    "duration": 11,
    "start_time": "2022-03-24T13:21:56.999Z"
   },
   {
    "duration": 10,
    "start_time": "2022-03-24T13:29:53.693Z"
   },
   {
    "duration": 6,
    "start_time": "2022-03-24T13:30:08.550Z"
   },
   {
    "duration": 265,
    "start_time": "2022-03-24T13:31:10.987Z"
   },
   {
    "duration": 262,
    "start_time": "2022-03-24T13:31:27.302Z"
   },
   {
    "duration": 369,
    "start_time": "2022-03-24T13:33:27.185Z"
   },
   {
    "duration": 256,
    "start_time": "2022-03-24T13:44:15.406Z"
   },
   {
    "duration": 291,
    "start_time": "2022-03-24T13:45:47.166Z"
   },
   {
    "duration": 421,
    "start_time": "2022-03-24T13:46:20.691Z"
   },
   {
    "duration": 268,
    "start_time": "2022-03-24T13:46:43.668Z"
   },
   {
    "duration": 327,
    "start_time": "2022-03-24T13:46:52.121Z"
   },
   {
    "duration": 365,
    "start_time": "2022-03-24T13:47:10.340Z"
   },
   {
    "duration": 442,
    "start_time": "2022-03-24T13:50:06.851Z"
   },
   {
    "duration": 351,
    "start_time": "2022-03-24T13:50:28.625Z"
   },
   {
    "duration": 357,
    "start_time": "2022-03-24T13:51:43.828Z"
   },
   {
    "duration": 406,
    "start_time": "2022-03-24T13:53:59.862Z"
   },
   {
    "duration": 11,
    "start_time": "2022-03-24T14:21:49.870Z"
   },
   {
    "duration": 127,
    "start_time": "2022-03-24T14:23:40.825Z"
   },
   {
    "duration": 111,
    "start_time": "2022-03-24T14:23:57.618Z"
   },
   {
    "duration": 123,
    "start_time": "2022-03-24T14:24:09.892Z"
   },
   {
    "duration": 2643,
    "start_time": "2022-03-24T14:37:38.672Z"
   },
   {
    "duration": 4,
    "start_time": "2022-03-24T14:37:57.306Z"
   },
   {
    "duration": 110,
    "start_time": "2022-03-24T14:43:50.906Z"
   },
   {
    "duration": 109,
    "start_time": "2022-03-24T14:44:12.930Z"
   },
   {
    "duration": 131,
    "start_time": "2022-03-24T14:47:29.912Z"
   },
   {
    "duration": 210,
    "start_time": "2022-03-24T14:47:42.794Z"
   },
   {
    "duration": 144,
    "start_time": "2022-03-24T14:54:01.979Z"
   },
   {
    "duration": 5,
    "start_time": "2022-03-24T14:55:23.318Z"
   },
   {
    "duration": 902,
    "start_time": "2022-03-25T12:46:10.986Z"
   },
   {
    "duration": 11,
    "start_time": "2022-03-25T12:46:11.890Z"
   },
   {
    "duration": 228,
    "start_time": "2022-03-25T12:46:11.902Z"
   },
   {
    "duration": 123,
    "start_time": "2022-03-25T12:46:12.132Z"
   },
   {
    "duration": 213,
    "start_time": "2022-03-25T12:46:12.256Z"
   },
   {
    "duration": 145,
    "start_time": "2022-03-25T12:46:12.471Z"
   },
   {
    "duration": 192,
    "start_time": "2022-03-25T12:46:12.617Z"
   },
   {
    "duration": 68,
    "start_time": "2022-03-25T12:46:12.811Z"
   },
   {
    "duration": 343,
    "start_time": "2022-03-25T12:46:12.881Z"
   },
   {
    "duration": 288,
    "start_time": "2022-03-25T12:46:13.232Z"
   },
   {
    "duration": 254,
    "start_time": "2022-03-25T12:46:13.522Z"
   },
   {
    "duration": 354,
    "start_time": "2022-03-25T12:46:13.778Z"
   },
   {
    "duration": 294,
    "start_time": "2022-03-25T12:46:14.134Z"
   },
   {
    "duration": 370,
    "start_time": "2022-03-25T12:46:14.429Z"
   },
   {
    "duration": 104,
    "start_time": "2022-03-25T12:46:14.801Z"
   },
   {
    "duration": 4,
    "start_time": "2022-03-25T12:46:14.907Z"
   },
   {
    "duration": 375,
    "start_time": "2022-03-25T12:46:14.913Z"
   },
   {
    "duration": 143,
    "start_time": "2022-03-25T12:46:15.289Z"
   },
   {
    "duration": 79,
    "start_time": "2022-03-25T12:55:51.910Z"
   },
   {
    "duration": 604,
    "start_time": "2022-03-25T12:58:04.591Z"
   },
   {
    "duration": 635,
    "start_time": "2022-03-25T13:06:37.311Z"
   },
   {
    "duration": 493,
    "start_time": "2022-03-25T13:08:04.156Z"
   },
   {
    "duration": 464,
    "start_time": "2022-03-25T13:08:33.301Z"
   },
   {
    "duration": 531,
    "start_time": "2022-03-25T13:08:38.683Z"
   },
   {
    "duration": 596,
    "start_time": "2022-03-25T13:09:19.770Z"
   },
   {
    "duration": 24,
    "start_time": "2022-03-25T13:09:47.733Z"
   },
   {
    "duration": 23,
    "start_time": "2022-03-25T13:10:27.715Z"
   },
   {
    "duration": 22,
    "start_time": "2022-03-25T13:11:03.104Z"
   },
   {
    "duration": 1925,
    "start_time": "2022-03-25T13:12:28.746Z"
   },
   {
    "duration": 21,
    "start_time": "2022-03-25T13:12:42.385Z"
   },
   {
    "duration": 46,
    "start_time": "2022-03-25T13:15:05.329Z"
   },
   {
    "duration": 49,
    "start_time": "2022-03-25T13:16:59.971Z"
   },
   {
    "duration": 53,
    "start_time": "2022-03-25T13:17:30.865Z"
   },
   {
    "duration": 69,
    "start_time": "2022-03-25T13:19:57.873Z"
   },
   {
    "duration": 70,
    "start_time": "2022-03-25T13:20:24.544Z"
   },
   {
    "duration": 509,
    "start_time": "2022-03-25T13:21:36.794Z"
   },
   {
    "duration": 14,
    "start_time": "2022-03-25T13:24:28.407Z"
   },
   {
    "duration": 11,
    "start_time": "2022-03-25T13:24:45.884Z"
   },
   {
    "duration": 17,
    "start_time": "2022-03-25T13:25:46.037Z"
   },
   {
    "duration": 480,
    "start_time": "2022-03-25T13:38:53.001Z"
   },
   {
    "duration": 63,
    "start_time": "2022-03-25T13:39:25.341Z"
   },
   {
    "duration": 607,
    "start_time": "2022-03-25T13:39:33.422Z"
   },
   {
    "duration": 2279,
    "start_time": "2022-03-25T13:48:34.250Z"
   },
   {
    "duration": 450,
    "start_time": "2022-03-25T13:49:36.677Z"
   },
   {
    "duration": 1329,
    "start_time": "2022-03-27T13:38:27.670Z"
   },
   {
    "duration": 13,
    "start_time": "2022-03-27T13:38:29.002Z"
   },
   {
    "duration": 7,
    "start_time": "2022-03-27T13:38:29.017Z"
   },
   {
    "duration": 46,
    "start_time": "2022-03-27T13:38:29.027Z"
   },
   {
    "duration": 15,
    "start_time": "2022-03-27T13:38:29.075Z"
   },
   {
    "duration": 15,
    "start_time": "2022-03-27T13:38:29.092Z"
   },
   {
    "duration": 125,
    "start_time": "2022-03-27T13:38:29.109Z"
   },
   {
    "duration": 12,
    "start_time": "2022-03-27T13:38:29.236Z"
   },
   {
    "duration": 383,
    "start_time": "2022-03-27T13:38:29.250Z"
   },
   {
    "duration": 269,
    "start_time": "2022-03-27T13:38:29.636Z"
   },
   {
    "duration": 269,
    "start_time": "2022-03-27T13:38:29.907Z"
   },
   {
    "duration": 426,
    "start_time": "2022-03-27T13:38:30.178Z"
   },
   {
    "duration": 308,
    "start_time": "2022-03-27T13:38:30.606Z"
   },
   {
    "duration": 354,
    "start_time": "2022-03-27T13:38:30.915Z"
   },
   {
    "duration": 104,
    "start_time": "2022-03-27T13:38:31.270Z"
   },
   {
    "duration": 4,
    "start_time": "2022-03-27T13:38:31.375Z"
   },
   {
    "duration": 152,
    "start_time": "2022-03-27T13:38:31.381Z"
   },
   {
    "duration": 4,
    "start_time": "2022-03-27T13:38:31.535Z"
   },
   {
    "duration": 934,
    "start_time": "2022-03-27T13:38:31.540Z"
   },
   {
    "duration": 0,
    "start_time": "2022-03-27T13:38:32.476Z"
   },
   {
    "duration": 114,
    "start_time": "2022-03-27T13:42:04.221Z"
   },
   {
    "duration": 649,
    "start_time": "2022-03-27T13:46:15.966Z"
   },
   {
    "duration": 180,
    "start_time": "2022-03-27T13:47:40.526Z"
   },
   {
    "duration": 556,
    "start_time": "2022-03-27T13:48:48.684Z"
   },
   {
    "duration": 647,
    "start_time": "2022-03-27T13:49:22.414Z"
   },
   {
    "duration": 136,
    "start_time": "2022-03-27T13:55:40.854Z"
   },
   {
    "duration": 139,
    "start_time": "2022-03-27T13:55:56.840Z"
   },
   {
    "duration": 676,
    "start_time": "2022-03-27T13:56:08.001Z"
   },
   {
    "duration": 616,
    "start_time": "2022-03-27T13:58:38.395Z"
   },
   {
    "duration": 73,
    "start_time": "2022-03-27T14:03:41.476Z"
   },
   {
    "duration": 135,
    "start_time": "2022-03-27T14:11:44.950Z"
   },
   {
    "duration": 1072,
    "start_time": "2022-03-27T14:50:23.593Z"
   },
   {
    "duration": 15,
    "start_time": "2022-03-27T14:50:24.668Z"
   },
   {
    "duration": 21,
    "start_time": "2022-03-27T14:50:24.685Z"
   },
   {
    "duration": 24,
    "start_time": "2022-03-27T14:50:24.709Z"
   },
   {
    "duration": 16,
    "start_time": "2022-03-27T14:50:24.735Z"
   },
   {
    "duration": 26,
    "start_time": "2022-03-27T14:50:24.754Z"
   },
   {
    "duration": 66,
    "start_time": "2022-03-27T14:50:24.802Z"
   },
   {
    "duration": 11,
    "start_time": "2022-03-27T14:50:24.870Z"
   },
   {
    "duration": 244,
    "start_time": "2022-03-27T14:50:24.902Z"
   },
   {
    "duration": 256,
    "start_time": "2022-03-27T14:50:25.149Z"
   },
   {
    "duration": 250,
    "start_time": "2022-03-27T14:50:25.408Z"
   },
   {
    "duration": 461,
    "start_time": "2022-03-27T14:50:25.660Z"
   },
   {
    "duration": 322,
    "start_time": "2022-03-27T14:50:26.123Z"
   },
   {
    "duration": 386,
    "start_time": "2022-03-27T14:50:26.447Z"
   },
   {
    "duration": 116,
    "start_time": "2022-03-27T14:50:26.835Z"
   },
   {
    "duration": 4,
    "start_time": "2022-03-27T14:50:26.953Z"
   },
   {
    "duration": 129,
    "start_time": "2022-03-27T14:50:26.959Z"
   },
   {
    "duration": 14,
    "start_time": "2022-03-27T14:50:27.090Z"
   },
   {
    "duration": 241,
    "start_time": "2022-03-27T14:50:27.106Z"
   },
   {
    "duration": 0,
    "start_time": "2022-03-27T14:50:27.349Z"
   },
   {
    "duration": 192,
    "start_time": "2022-03-27T15:06:44.259Z"
   },
   {
    "duration": 329,
    "start_time": "2022-03-27T15:07:04.503Z"
   },
   {
    "duration": 226,
    "start_time": "2022-03-27T15:10:33.321Z"
   },
   {
    "duration": 243,
    "start_time": "2022-03-27T15:11:08.411Z"
   },
   {
    "duration": 175,
    "start_time": "2022-03-27T15:11:26.031Z"
   },
   {
    "duration": 188,
    "start_time": "2022-03-27T15:13:27.846Z"
   },
   {
    "duration": 193,
    "start_time": "2022-03-27T15:15:01.205Z"
   },
   {
    "duration": 23,
    "start_time": "2022-03-27T15:16:34.713Z"
   },
   {
    "duration": 30,
    "start_time": "2022-03-27T15:17:28.423Z"
   },
   {
    "duration": 707,
    "start_time": "2022-03-27T15:18:21.863Z"
   },
   {
    "duration": 43,
    "start_time": "2022-03-27T15:18:30.691Z"
   },
   {
    "duration": 28,
    "start_time": "2022-03-27T15:22:34.619Z"
   },
   {
    "duration": 27,
    "start_time": "2022-03-27T15:23:03.690Z"
   },
   {
    "duration": 1848,
    "start_time": "2022-03-27T16:26:08.718Z"
   },
   {
    "duration": 22,
    "start_time": "2022-03-27T16:26:10.569Z"
   },
   {
    "duration": 15,
    "start_time": "2022-03-27T16:26:10.593Z"
   },
   {
    "duration": 48,
    "start_time": "2022-03-27T16:26:10.611Z"
   },
   {
    "duration": 45,
    "start_time": "2022-03-27T16:26:10.661Z"
   },
   {
    "duration": 40,
    "start_time": "2022-03-27T16:26:10.709Z"
   },
   {
    "duration": 150,
    "start_time": "2022-03-27T16:26:10.752Z"
   },
   {
    "duration": 14,
    "start_time": "2022-03-27T16:26:10.905Z"
   },
   {
    "duration": 422,
    "start_time": "2022-03-27T16:26:10.922Z"
   },
   {
    "duration": 564,
    "start_time": "2022-03-27T16:26:11.347Z"
   },
   {
    "duration": 416,
    "start_time": "2022-03-27T16:26:11.914Z"
   },
   {
    "duration": 577,
    "start_time": "2022-03-27T16:26:12.332Z"
   },
   {
    "duration": 414,
    "start_time": "2022-03-27T16:26:12.912Z"
   },
   {
    "duration": 543,
    "start_time": "2022-03-27T16:26:13.330Z"
   },
   {
    "duration": 175,
    "start_time": "2022-03-27T16:26:13.884Z"
   },
   {
    "duration": 6,
    "start_time": "2022-03-27T16:26:14.062Z"
   },
   {
    "duration": 204,
    "start_time": "2022-03-27T16:26:14.083Z"
   },
   {
    "duration": 6,
    "start_time": "2022-03-27T16:26:14.290Z"
   },
   {
    "duration": 40,
    "start_time": "2022-03-27T16:26:14.300Z"
   },
   {
    "duration": 14,
    "start_time": "2022-03-27T16:32:02.994Z"
   },
   {
    "duration": 4,
    "start_time": "2022-03-27T16:44:15.054Z"
   },
   {
    "duration": 2673,
    "start_time": "2022-03-27T16:45:28.554Z"
   },
   {
    "duration": 2560,
    "start_time": "2022-03-27T16:46:14.042Z"
   },
   {
    "duration": 2433,
    "start_time": "2022-03-27T16:48:02.371Z"
   },
   {
    "duration": 2455,
    "start_time": "2022-03-27T16:52:52.602Z"
   },
   {
    "duration": 2225,
    "start_time": "2022-03-27T16:53:13.932Z"
   },
   {
    "duration": 2374,
    "start_time": "2022-03-27T16:53:37.146Z"
   },
   {
    "duration": 35,
    "start_time": "2022-03-27T16:55:28.291Z"
   },
   {
    "duration": 41,
    "start_time": "2022-03-27T16:59:10.165Z"
   },
   {
    "duration": 2480,
    "start_time": "2022-03-27T16:59:28.838Z"
   },
   {
    "duration": 43,
    "start_time": "2022-03-27T17:00:29.344Z"
   },
   {
    "duration": 2688,
    "start_time": "2022-03-27T17:06:59.644Z"
   },
   {
    "duration": 2872,
    "start_time": "2022-03-27T17:07:26.230Z"
   },
   {
    "duration": 2648,
    "start_time": "2022-03-27T17:08:45.169Z"
   },
   {
    "duration": 2832,
    "start_time": "2022-03-27T17:08:59.325Z"
   },
   {
    "duration": 1541,
    "start_time": "2022-03-27T17:10:18.905Z"
   },
   {
    "duration": 34,
    "start_time": "2022-03-27T17:10:20.449Z"
   },
   {
    "duration": 8,
    "start_time": "2022-03-27T17:10:20.486Z"
   },
   {
    "duration": 47,
    "start_time": "2022-03-27T17:10:20.498Z"
   },
   {
    "duration": 26,
    "start_time": "2022-03-27T17:10:20.548Z"
   },
   {
    "duration": 44,
    "start_time": "2022-03-27T17:10:20.576Z"
   },
   {
    "duration": 156,
    "start_time": "2022-03-27T17:10:20.622Z"
   },
   {
    "duration": 15,
    "start_time": "2022-03-27T17:10:20.782Z"
   },
   {
    "duration": 619,
    "start_time": "2022-03-27T17:10:20.800Z"
   },
   {
    "duration": 459,
    "start_time": "2022-03-27T17:10:21.423Z"
   },
   {
    "duration": 605,
    "start_time": "2022-03-27T17:10:21.884Z"
   },
   {
    "duration": 502,
    "start_time": "2022-03-27T17:10:22.492Z"
   },
   {
    "duration": 411,
    "start_time": "2022-03-27T17:10:22.996Z"
   },
   {
    "duration": 504,
    "start_time": "2022-03-27T17:10:23.409Z"
   },
   {
    "duration": 186,
    "start_time": "2022-03-27T17:10:23.916Z"
   },
   {
    "duration": 7,
    "start_time": "2022-03-27T17:10:24.104Z"
   },
   {
    "duration": 207,
    "start_time": "2022-03-27T17:10:24.114Z"
   },
   {
    "duration": 8,
    "start_time": "2022-03-27T17:10:24.324Z"
   },
   {
    "duration": 74,
    "start_time": "2022-03-27T17:10:24.334Z"
   },
   {
    "duration": 16,
    "start_time": "2022-03-27T17:10:24.411Z"
   },
   {
    "duration": 2686,
    "start_time": "2022-03-27T17:10:24.430Z"
   },
   {
    "duration": 1486,
    "start_time": "2022-03-29T06:38:13.645Z"
   },
   {
    "duration": 12,
    "start_time": "2022-03-29T06:38:15.134Z"
   },
   {
    "duration": 10,
    "start_time": "2022-03-29T06:38:15.148Z"
   },
   {
    "duration": 54,
    "start_time": "2022-03-29T06:38:15.161Z"
   },
   {
    "duration": 14,
    "start_time": "2022-03-29T06:38:15.217Z"
   },
   {
    "duration": 15,
    "start_time": "2022-03-29T06:38:15.233Z"
   },
   {
    "duration": 105,
    "start_time": "2022-03-29T06:38:15.250Z"
   },
   {
    "duration": 12,
    "start_time": "2022-03-29T06:38:15.357Z"
   },
   {
    "duration": 304,
    "start_time": "2022-03-29T06:38:15.371Z"
   },
   {
    "duration": 321,
    "start_time": "2022-03-29T06:38:15.677Z"
   },
   {
    "duration": 277,
    "start_time": "2022-03-29T06:38:16.000Z"
   },
   {
    "duration": 655,
    "start_time": "2022-03-29T06:38:16.280Z"
   },
   {
    "duration": 486,
    "start_time": "2022-03-29T06:38:16.938Z"
   },
   {
    "duration": 603,
    "start_time": "2022-03-29T06:38:17.427Z"
   },
   {
    "duration": 221,
    "start_time": "2022-03-29T06:38:18.033Z"
   },
   {
    "duration": 6,
    "start_time": "2022-03-29T06:38:18.257Z"
   },
   {
    "duration": 244,
    "start_time": "2022-03-29T06:38:18.266Z"
   },
   {
    "duration": 7,
    "start_time": "2022-03-29T06:38:18.513Z"
   },
   {
    "duration": 32,
    "start_time": "2022-03-29T06:38:18.522Z"
   },
   {
    "duration": 11,
    "start_time": "2022-03-29T06:38:18.556Z"
   },
   {
    "duration": 2428,
    "start_time": "2022-03-29T06:38:18.600Z"
   },
   {
    "duration": 2492,
    "start_time": "2022-03-29T06:41:35.253Z"
   },
   {
    "duration": 44,
    "start_time": "2022-03-29T06:42:38.521Z"
   },
   {
    "duration": 2363,
    "start_time": "2022-03-29T06:43:00.333Z"
   },
   {
    "duration": 37,
    "start_time": "2022-03-29T06:49:45.990Z"
   },
   {
    "duration": 33,
    "start_time": "2022-03-29T06:49:49.511Z"
   },
   {
    "duration": 2308,
    "start_time": "2022-03-29T06:49:56.644Z"
   },
   {
    "duration": 1889,
    "start_time": "2022-03-30T14:50:20.386Z"
   },
   {
    "duration": 13,
    "start_time": "2022-03-30T14:50:22.283Z"
   },
   {
    "duration": 8,
    "start_time": "2022-03-30T14:50:22.298Z"
   },
   {
    "duration": 25,
    "start_time": "2022-03-30T14:50:22.309Z"
   },
   {
    "duration": 54,
    "start_time": "2022-03-30T14:50:22.338Z"
   },
   {
    "duration": 22,
    "start_time": "2022-03-30T14:50:22.394Z"
   },
   {
    "duration": 167,
    "start_time": "2022-03-30T14:50:22.418Z"
   },
   {
    "duration": 16,
    "start_time": "2022-03-30T14:50:22.587Z"
   },
   {
    "duration": 442,
    "start_time": "2022-03-30T14:50:22.606Z"
   },
   {
    "duration": 449,
    "start_time": "2022-03-30T14:50:23.050Z"
   },
   {
    "duration": 410,
    "start_time": "2022-03-30T14:50:23.502Z"
   },
   {
    "duration": 570,
    "start_time": "2022-03-30T14:50:23.914Z"
   },
   {
    "duration": 425,
    "start_time": "2022-03-30T14:50:24.486Z"
   },
   {
    "duration": 685,
    "start_time": "2022-03-30T14:50:24.914Z"
   },
   {
    "duration": 192,
    "start_time": "2022-03-30T14:50:25.601Z"
   },
   {
    "duration": 6,
    "start_time": "2022-03-30T14:50:25.796Z"
   },
   {
    "duration": 213,
    "start_time": "2022-03-30T14:50:25.805Z"
   },
   {
    "duration": 6,
    "start_time": "2022-03-30T14:50:26.020Z"
   },
   {
    "duration": 64,
    "start_time": "2022-03-30T14:50:26.029Z"
   },
   {
    "duration": 13,
    "start_time": "2022-03-30T14:50:26.095Z"
   },
   {
    "duration": 2252,
    "start_time": "2022-03-30T14:50:26.110Z"
   },
   {
    "duration": 29,
    "start_time": "2022-03-30T14:50:55.019Z"
   },
   {
    "duration": 67,
    "start_time": "2022-03-30T14:51:36.201Z"
   },
   {
    "duration": 15,
    "start_time": "2022-03-30T14:52:50.174Z"
   },
   {
    "duration": 2325,
    "start_time": "2022-03-30T14:53:11.193Z"
   },
   {
    "duration": 2335,
    "start_time": "2022-03-30T14:56:44.591Z"
   },
   {
    "duration": 32,
    "start_time": "2022-03-30T14:57:36.594Z"
   },
   {
    "duration": 32,
    "start_time": "2022-03-30T14:58:26.834Z"
   },
   {
    "duration": 2254,
    "start_time": "2022-03-30T14:59:53.103Z"
   },
   {
    "duration": 49,
    "start_time": "2022-03-30T15:00:21.991Z"
   },
   {
    "duration": 23,
    "start_time": "2022-03-30T15:00:45.930Z"
   },
   {
    "duration": 2075,
    "start_time": "2022-03-30T15:01:29.078Z"
   },
   {
    "duration": 21,
    "start_time": "2022-03-30T15:01:43.369Z"
   },
   {
    "duration": 23,
    "start_time": "2022-03-30T15:02:20.279Z"
   },
   {
    "duration": 23,
    "start_time": "2022-03-30T15:02:53.141Z"
   },
   {
    "duration": 28,
    "start_time": "2022-03-30T15:03:06.098Z"
   },
   {
    "duration": 32,
    "start_time": "2022-03-30T15:03:17.477Z"
   },
   {
    "duration": 2157,
    "start_time": "2022-04-01T13:59:07.201Z"
   },
   {
    "duration": 13,
    "start_time": "2022-04-01T13:59:09.361Z"
   },
   {
    "duration": 18,
    "start_time": "2022-04-01T13:59:09.376Z"
   },
   {
    "duration": 35,
    "start_time": "2022-04-01T13:59:09.397Z"
   },
   {
    "duration": 17,
    "start_time": "2022-04-01T13:59:09.444Z"
   },
   {
    "duration": 33,
    "start_time": "2022-04-01T13:59:09.464Z"
   },
   {
    "duration": 163,
    "start_time": "2022-04-01T13:59:09.499Z"
   },
   {
    "duration": 15,
    "start_time": "2022-04-01T13:59:09.664Z"
   },
   {
    "duration": 442,
    "start_time": "2022-04-01T13:59:09.681Z"
   },
   {
    "duration": 437,
    "start_time": "2022-04-01T13:59:10.127Z"
   },
   {
    "duration": 405,
    "start_time": "2022-04-01T13:59:10.567Z"
   },
   {
    "duration": 582,
    "start_time": "2022-04-01T13:59:10.975Z"
   },
   {
    "duration": 417,
    "start_time": "2022-04-01T13:59:11.560Z"
   },
   {
    "duration": 547,
    "start_time": "2022-04-01T13:59:11.979Z"
   },
   {
    "duration": 183,
    "start_time": "2022-04-01T13:59:12.528Z"
   },
   {
    "duration": 6,
    "start_time": "2022-04-01T13:59:12.713Z"
   },
   {
    "duration": 197,
    "start_time": "2022-04-01T13:59:12.721Z"
   },
   {
    "duration": 6,
    "start_time": "2022-04-01T13:59:12.920Z"
   },
   {
    "duration": 74,
    "start_time": "2022-04-01T13:59:12.928Z"
   },
   {
    "duration": 14,
    "start_time": "2022-04-01T13:59:13.004Z"
   },
   {
    "duration": 46,
    "start_time": "2022-04-01T13:59:13.020Z"
   },
   {
    "duration": 13,
    "start_time": "2022-04-01T13:59:45.050Z"
   },
   {
    "duration": 13,
    "start_time": "2022-04-01T14:00:01.447Z"
   },
   {
    "duration": 13,
    "start_time": "2022-04-01T14:00:06.686Z"
   },
   {
    "duration": 254,
    "start_time": "2022-04-01T14:28:04.938Z"
   },
   {
    "duration": 7063,
    "start_time": "2022-04-01T14:28:36.435Z"
   },
   {
    "duration": 3392,
    "start_time": "2022-04-01T14:29:38.569Z"
   },
   {
    "duration": 21,
    "start_time": "2022-04-01T14:31:49.899Z"
   },
   {
    "duration": 34,
    "start_time": "2022-04-01T14:32:03.799Z"
   },
   {
    "duration": 24,
    "start_time": "2022-04-01T14:40:23.656Z"
   },
   {
    "duration": 23,
    "start_time": "2022-04-01T14:41:31.403Z"
   },
   {
    "duration": 242,
    "start_time": "2022-04-01T14:43:00.474Z"
   },
   {
    "duration": 867,
    "start_time": "2022-04-01T14:49:15.717Z"
   },
   {
    "duration": 860,
    "start_time": "2022-04-01T14:50:08.715Z"
   },
   {
    "duration": 175,
    "start_time": "2022-04-01T14:50:42.975Z"
   },
   {
    "duration": 2713,
    "start_time": "2022-04-01T14:52:21.780Z"
   },
   {
    "duration": 866,
    "start_time": "2022-04-01T14:57:56.248Z"
   },
   {
    "duration": 959,
    "start_time": "2022-04-01T15:09:41.517Z"
   },
   {
    "duration": 889,
    "start_time": "2022-04-01T15:10:09.476Z"
   },
   {
    "duration": 35,
    "start_time": "2022-04-01T15:16:04.066Z"
   },
   {
    "duration": 62,
    "start_time": "2022-04-01T15:19:27.826Z"
   },
   {
    "duration": 23,
    "start_time": "2022-04-01T15:23:23.854Z"
   },
   {
    "duration": 13,
    "start_time": "2022-04-01T15:23:35.097Z"
   },
   {
    "duration": 35,
    "start_time": "2022-04-01T15:23:48.424Z"
   },
   {
    "duration": 233,
    "start_time": "2022-04-01T15:31:06.715Z"
   },
   {
    "duration": 213,
    "start_time": "2022-04-01T15:31:55.058Z"
   },
   {
    "duration": 219,
    "start_time": "2022-04-01T15:32:12.127Z"
   },
   {
    "duration": 239,
    "start_time": "2022-04-01T15:32:58.347Z"
   },
   {
    "duration": 249,
    "start_time": "2022-04-01T15:33:23.008Z"
   },
   {
    "duration": 44,
    "start_time": "2022-04-01T15:33:40.775Z"
   },
   {
    "duration": 40,
    "start_time": "2022-04-01T15:38:07.112Z"
   },
   {
    "duration": 12,
    "start_time": "2022-04-01T15:48:21.197Z"
   },
   {
    "duration": 14,
    "start_time": "2022-04-01T15:49:36.398Z"
   },
   {
    "duration": 545,
    "start_time": "2022-04-01T16:09:35.544Z"
   },
   {
    "duration": 500,
    "start_time": "2022-04-01T16:10:03.191Z"
   },
   {
    "duration": 571,
    "start_time": "2022-04-01T16:10:16.708Z"
   },
   {
    "duration": 427,
    "start_time": "2022-04-01T16:10:28.251Z"
   },
   {
    "duration": 462,
    "start_time": "2022-04-01T16:10:39.407Z"
   },
   {
    "duration": 539,
    "start_time": "2022-04-01T16:12:42.630Z"
   },
   {
    "duration": 446,
    "start_time": "2022-04-01T16:12:58.311Z"
   },
   {
    "duration": 1155,
    "start_time": "2022-04-02T09:43:02.760Z"
   },
   {
    "duration": 10,
    "start_time": "2022-04-02T09:43:03.917Z"
   },
   {
    "duration": 6,
    "start_time": "2022-04-02T09:43:03.929Z"
   },
   {
    "duration": 19,
    "start_time": "2022-04-02T09:43:03.937Z"
   },
   {
    "duration": 11,
    "start_time": "2022-04-02T09:43:03.958Z"
   },
   {
    "duration": 46,
    "start_time": "2022-04-02T09:43:03.970Z"
   },
   {
    "duration": 92,
    "start_time": "2022-04-02T09:43:04.017Z"
   },
   {
    "duration": 10,
    "start_time": "2022-04-02T09:43:04.111Z"
   },
   {
    "duration": 265,
    "start_time": "2022-04-02T09:43:04.123Z"
   },
   {
    "duration": 333,
    "start_time": "2022-04-02T09:43:04.391Z"
   },
   {
    "duration": 323,
    "start_time": "2022-04-02T09:43:04.726Z"
   },
   {
    "duration": 391,
    "start_time": "2022-04-02T09:43:05.050Z"
   },
   {
    "duration": 313,
    "start_time": "2022-04-02T09:43:05.442Z"
   },
   {
    "duration": 411,
    "start_time": "2022-04-02T09:43:05.757Z"
   },
   {
    "duration": 123,
    "start_time": "2022-04-02T09:43:06.170Z"
   },
   {
    "duration": 4,
    "start_time": "2022-04-02T09:43:06.295Z"
   },
   {
    "duration": 141,
    "start_time": "2022-04-02T09:43:06.310Z"
   },
   {
    "duration": 4,
    "start_time": "2022-04-02T09:43:06.453Z"
   },
   {
    "duration": 66,
    "start_time": "2022-04-02T09:43:06.459Z"
   },
   {
    "duration": 10,
    "start_time": "2022-04-02T09:43:06.527Z"
   },
   {
    "duration": 8,
    "start_time": "2022-04-02T09:43:06.538Z"
   },
   {
    "duration": 40,
    "start_time": "2022-04-02T09:43:06.548Z"
   },
   {
    "duration": 27,
    "start_time": "2022-04-02T09:43:06.590Z"
   },
   {
    "duration": 11,
    "start_time": "2022-04-02T09:55:12.734Z"
   },
   {
    "duration": 10,
    "start_time": "2022-04-02T09:56:21.097Z"
   },
   {
    "duration": 7,
    "start_time": "2022-04-02T09:56:29.916Z"
   },
   {
    "duration": 6,
    "start_time": "2022-04-02T09:56:45.870Z"
   },
   {
    "duration": 8,
    "start_time": "2022-04-02T09:56:54.801Z"
   },
   {
    "duration": 4,
    "start_time": "2022-04-02T09:56:59.594Z"
   },
   {
    "duration": 1402,
    "start_time": "2022-04-05T14:33:17.661Z"
   },
   {
    "duration": 1525,
    "start_time": "2022-04-05T14:33:28.358Z"
   },
   {
    "duration": 11,
    "start_time": "2022-04-05T14:33:29.885Z"
   },
   {
    "duration": 6,
    "start_time": "2022-04-05T14:33:29.898Z"
   },
   {
    "duration": 15,
    "start_time": "2022-04-05T14:33:29.906Z"
   },
   {
    "duration": 8,
    "start_time": "2022-04-05T14:33:29.923Z"
   },
   {
    "duration": 13,
    "start_time": "2022-04-05T14:33:29.933Z"
   },
   {
    "duration": 86,
    "start_time": "2022-04-05T14:33:29.948Z"
   },
   {
    "duration": 9,
    "start_time": "2022-04-05T14:33:30.036Z"
   },
   {
    "duration": 238,
    "start_time": "2022-04-05T14:33:30.047Z"
   },
   {
    "duration": 274,
    "start_time": "2022-04-05T14:33:30.288Z"
   },
   {
    "duration": 251,
    "start_time": "2022-04-05T14:33:30.563Z"
   },
   {
    "duration": 343,
    "start_time": "2022-04-05T14:33:30.815Z"
   },
   {
    "duration": 265,
    "start_time": "2022-04-05T14:33:31.160Z"
   },
   {
    "duration": 362,
    "start_time": "2022-04-05T14:33:31.427Z"
   },
   {
    "duration": 105,
    "start_time": "2022-04-05T14:33:31.791Z"
   },
   {
    "duration": 4,
    "start_time": "2022-04-05T14:33:31.898Z"
   },
   {
    "duration": 114,
    "start_time": "2022-04-05T14:33:31.903Z"
   },
   {
    "duration": 4,
    "start_time": "2022-04-05T14:33:32.019Z"
   },
   {
    "duration": 57,
    "start_time": "2022-04-05T14:33:32.024Z"
   },
   {
    "duration": 10,
    "start_time": "2022-04-05T14:33:32.083Z"
   },
   {
    "duration": 8,
    "start_time": "2022-04-05T14:33:32.094Z"
   },
   {
    "duration": 42,
    "start_time": "2022-04-05T14:33:32.104Z"
   },
   {
    "duration": 8,
    "start_time": "2022-04-05T14:33:32.147Z"
   },
   {
    "duration": 60,
    "start_time": "2022-04-05T14:42:16.533Z"
   },
   {
    "duration": 62,
    "start_time": "2022-04-05T14:42:38.573Z"
   },
   {
    "duration": 78,
    "start_time": "2022-04-05T14:43:23.606Z"
   },
   {
    "duration": 139,
    "start_time": "2022-04-05T14:43:44.352Z"
   },
   {
    "duration": 101,
    "start_time": "2022-04-05T14:43:57.470Z"
   },
   {
    "duration": 256,
    "start_time": "2022-04-05T14:44:55.142Z"
   },
   {
    "duration": 172,
    "start_time": "2022-04-05T14:50:44.677Z"
   },
   {
    "duration": 61,
    "start_time": "2022-04-05T14:50:56.450Z"
   },
   {
    "duration": 70,
    "start_time": "2022-04-05T14:51:09.693Z"
   },
   {
    "duration": 201,
    "start_time": "2022-04-05T14:59:59.438Z"
   },
   {
    "duration": 176,
    "start_time": "2022-04-05T15:00:17.156Z"
   },
   {
    "duration": 3371,
    "start_time": "2022-04-05T15:00:35.583Z"
   },
   {
    "duration": 2992,
    "start_time": "2022-04-05T15:02:15.917Z"
   },
   {
    "duration": 2877,
    "start_time": "2022-04-05T15:02:33.850Z"
   },
   {
    "duration": 62,
    "start_time": "2022-04-05T15:04:22.040Z"
   },
   {
    "duration": 88,
    "start_time": "2022-04-05T15:04:33.860Z"
   },
   {
    "duration": 63,
    "start_time": "2022-04-05T15:05:12.391Z"
   },
   {
    "duration": 64,
    "start_time": "2022-04-05T15:05:55.428Z"
   },
   {
    "duration": 63,
    "start_time": "2022-04-05T15:08:11.686Z"
   },
   {
    "duration": 62,
    "start_time": "2022-04-05T15:08:40.988Z"
   },
   {
    "duration": 60,
    "start_time": "2022-04-05T15:09:06.309Z"
   },
   {
    "duration": 63,
    "start_time": "2022-04-05T15:09:42.908Z"
   },
   {
    "duration": 242,
    "start_time": "2022-04-05T15:13:08.164Z"
   },
   {
    "duration": 395,
    "start_time": "2022-04-05T15:13:24.468Z"
   },
   {
    "duration": 327,
    "start_time": "2022-04-05T15:13:40.579Z"
   },
   {
    "duration": 371,
    "start_time": "2022-04-05T15:14:02.285Z"
   },
   {
    "duration": 321,
    "start_time": "2022-04-05T15:14:26.232Z"
   },
   {
    "duration": 93,
    "start_time": "2022-04-05T15:18:30.620Z"
   },
   {
    "duration": 108,
    "start_time": "2022-04-05T15:21:07.207Z"
   },
   {
    "duration": 111,
    "start_time": "2022-04-05T15:28:08.957Z"
   },
   {
    "duration": 10,
    "start_time": "2022-04-05T15:36:11.861Z"
   },
   {
    "duration": 8,
    "start_time": "2022-04-05T15:37:34.911Z"
   },
   {
    "duration": 2963,
    "start_time": "2022-04-05T15:41:38.497Z"
   },
   {
    "duration": 10,
    "start_time": "2022-04-05T15:41:54.372Z"
   },
   {
    "duration": 13,
    "start_time": "2022-04-05T15:42:55.170Z"
   },
   {
    "duration": 41,
    "start_time": "2022-04-05T15:46:39.245Z"
   },
   {
    "duration": 32,
    "start_time": "2022-04-05T15:48:25.150Z"
   },
   {
    "duration": 1711,
    "start_time": "2022-04-06T19:04:31.548Z"
   },
   {
    "duration": 16,
    "start_time": "2022-04-06T19:04:33.263Z"
   },
   {
    "duration": 8,
    "start_time": "2022-04-06T19:04:33.282Z"
   },
   {
    "duration": 27,
    "start_time": "2022-04-06T19:04:33.295Z"
   },
   {
    "duration": 17,
    "start_time": "2022-04-06T19:04:33.367Z"
   },
   {
    "duration": 23,
    "start_time": "2022-04-06T19:04:33.388Z"
   },
   {
    "duration": 176,
    "start_time": "2022-04-06T19:04:33.413Z"
   },
   {
    "duration": 14,
    "start_time": "2022-04-06T19:04:33.591Z"
   },
   {
    "duration": 417,
    "start_time": "2022-04-06T19:04:33.607Z"
   },
   {
    "duration": 453,
    "start_time": "2022-04-06T19:04:34.028Z"
   },
   {
    "duration": 433,
    "start_time": "2022-04-06T19:04:34.483Z"
   },
   {
    "duration": 600,
    "start_time": "2022-04-06T19:04:34.919Z"
   },
   {
    "duration": 437,
    "start_time": "2022-04-06T19:04:35.522Z"
   },
   {
    "duration": 503,
    "start_time": "2022-04-06T19:04:35.961Z"
   },
   {
    "duration": 191,
    "start_time": "2022-04-06T19:04:36.467Z"
   },
   {
    "duration": 9,
    "start_time": "2022-04-06T19:04:36.661Z"
   },
   {
    "duration": 223,
    "start_time": "2022-04-06T19:04:36.673Z"
   },
   {
    "duration": 6,
    "start_time": "2022-04-06T19:04:36.899Z"
   },
   {
    "duration": 82,
    "start_time": "2022-04-06T19:04:36.907Z"
   },
   {
    "duration": 14,
    "start_time": "2022-04-06T19:04:36.991Z"
   },
   {
    "duration": 13,
    "start_time": "2022-04-06T19:04:37.007Z"
   },
   {
    "duration": 77,
    "start_time": "2022-04-06T19:04:37.022Z"
   },
   {
    "duration": 19,
    "start_time": "2022-04-06T19:04:37.102Z"
   },
   {
    "duration": 8,
    "start_time": "2022-04-06T19:05:58.902Z"
   },
   {
    "duration": 6,
    "start_time": "2022-04-06T19:06:06.232Z"
   },
   {
    "duration": 1714,
    "start_time": "2022-04-07T07:30:21.710Z"
   },
   {
    "duration": 14,
    "start_time": "2022-04-07T07:30:23.426Z"
   },
   {
    "duration": 7,
    "start_time": "2022-04-07T07:30:23.442Z"
   },
   {
    "duration": 57,
    "start_time": "2022-04-07T07:30:23.452Z"
   },
   {
    "duration": 16,
    "start_time": "2022-04-07T07:30:23.511Z"
   },
   {
    "duration": 45,
    "start_time": "2022-04-07T07:30:23.529Z"
   },
   {
    "duration": 146,
    "start_time": "2022-04-07T07:30:23.576Z"
   },
   {
    "duration": 15,
    "start_time": "2022-04-07T07:30:23.724Z"
   },
   {
    "duration": 416,
    "start_time": "2022-04-07T07:30:23.741Z"
   },
   {
    "duration": 454,
    "start_time": "2022-04-07T07:30:24.173Z"
   },
   {
    "duration": 432,
    "start_time": "2022-04-07T07:30:24.629Z"
   },
   {
    "duration": 589,
    "start_time": "2022-04-07T07:30:25.063Z"
   },
   {
    "duration": 428,
    "start_time": "2022-04-07T07:30:25.654Z"
   },
   {
    "duration": 498,
    "start_time": "2022-04-07T07:30:26.084Z"
   },
   {
    "duration": 205,
    "start_time": "2022-04-07T07:30:26.585Z"
   },
   {
    "duration": 5,
    "start_time": "2022-04-07T07:30:26.792Z"
   },
   {
    "duration": 230,
    "start_time": "2022-04-07T07:30:26.799Z"
   },
   {
    "duration": 5,
    "start_time": "2022-04-07T07:30:27.031Z"
   },
   {
    "duration": 83,
    "start_time": "2022-04-07T07:30:27.038Z"
   },
   {
    "duration": 13,
    "start_time": "2022-04-07T07:30:27.123Z"
   },
   {
    "duration": 35,
    "start_time": "2022-04-07T07:30:27.138Z"
   },
   {
    "duration": 52,
    "start_time": "2022-04-07T07:30:27.175Z"
   },
   {
    "duration": 5,
    "start_time": "2022-04-07T07:30:27.229Z"
   },
   {
    "duration": 47,
    "start_time": "2022-04-07T07:30:27.236Z"
   },
   {
    "duration": 42,
    "start_time": "2022-04-07T07:30:49.520Z"
   },
   {
    "duration": 6,
    "start_time": "2022-04-07T07:31:15.535Z"
   },
   {
    "duration": 5,
    "start_time": "2022-04-07T07:31:44.661Z"
   },
   {
    "duration": 173,
    "start_time": "2022-04-07T09:35:46.701Z"
   },
   {
    "duration": 12,
    "start_time": "2022-04-07T09:36:18.908Z"
   },
   {
    "duration": 25,
    "start_time": "2022-04-07T09:40:55.100Z"
   },
   {
    "duration": 24,
    "start_time": "2022-04-07T09:41:37.106Z"
   },
   {
    "duration": 30,
    "start_time": "2022-04-07T09:42:03.240Z"
   },
   {
    "duration": 21,
    "start_time": "2022-04-07T09:42:22.987Z"
   },
   {
    "duration": 46,
    "start_time": "2022-04-07T09:42:38.219Z"
   },
   {
    "duration": 6,
    "start_time": "2022-04-07T09:42:45.837Z"
   },
   {
    "duration": 34,
    "start_time": "2022-04-07T09:43:35.053Z"
   },
   {
    "duration": 12,
    "start_time": "2022-04-07T09:43:47.173Z"
   },
   {
    "duration": 42,
    "start_time": "2022-04-07T09:43:52.372Z"
   },
   {
    "duration": 5,
    "start_time": "2022-04-07T09:43:55.778Z"
   },
   {
    "duration": 1455,
    "start_time": "2022-04-08T03:10:18.695Z"
   },
   {
    "duration": 11,
    "start_time": "2022-04-08T03:10:20.152Z"
   },
   {
    "duration": 10,
    "start_time": "2022-04-08T03:10:20.165Z"
   },
   {
    "duration": 19,
    "start_time": "2022-04-08T03:10:20.200Z"
   },
   {
    "duration": 15,
    "start_time": "2022-04-08T03:10:20.220Z"
   },
   {
    "duration": 20,
    "start_time": "2022-04-08T03:10:20.237Z"
   },
   {
    "duration": 93,
    "start_time": "2022-04-08T03:10:20.259Z"
   },
   {
    "duration": 13,
    "start_time": "2022-04-08T03:10:20.354Z"
   },
   {
    "duration": 301,
    "start_time": "2022-04-08T03:10:20.369Z"
   },
   {
    "duration": 323,
    "start_time": "2022-04-08T03:10:20.673Z"
   },
   {
    "duration": 300,
    "start_time": "2022-04-08T03:10:21.001Z"
   },
   {
    "duration": 446,
    "start_time": "2022-04-08T03:10:21.303Z"
   },
   {
    "duration": 328,
    "start_time": "2022-04-08T03:10:21.751Z"
   },
   {
    "duration": 410,
    "start_time": "2022-04-08T03:10:22.081Z"
   },
   {
    "duration": 134,
    "start_time": "2022-04-08T03:10:22.493Z"
   },
   {
    "duration": 4,
    "start_time": "2022-04-08T03:10:22.629Z"
   },
   {
    "duration": 152,
    "start_time": "2022-04-08T03:10:22.635Z"
   },
   {
    "duration": 14,
    "start_time": "2022-04-08T03:10:22.789Z"
   },
   {
    "duration": 64,
    "start_time": "2022-04-08T03:10:22.805Z"
   },
   {
    "duration": 11,
    "start_time": "2022-04-08T03:10:22.871Z"
   },
   {
    "duration": 22,
    "start_time": "2022-04-08T03:10:22.884Z"
   },
   {
    "duration": 47,
    "start_time": "2022-04-08T03:10:22.908Z"
   },
   {
    "duration": 4,
    "start_time": "2022-04-08T03:10:22.958Z"
   },
   {
    "duration": 27,
    "start_time": "2022-04-08T03:10:22.964Z"
   },
   {
    "duration": 1717,
    "start_time": "2022-04-08T07:15:17.447Z"
   },
   {
    "duration": 13,
    "start_time": "2022-04-08T07:15:19.167Z"
   },
   {
    "duration": 8,
    "start_time": "2022-04-08T07:15:19.183Z"
   },
   {
    "duration": 28,
    "start_time": "2022-04-08T07:15:19.194Z"
   },
   {
    "duration": 60,
    "start_time": "2022-04-08T07:15:19.224Z"
   },
   {
    "duration": 21,
    "start_time": "2022-04-08T07:15:19.286Z"
   },
   {
    "duration": 163,
    "start_time": "2022-04-08T07:15:19.309Z"
   },
   {
    "duration": 16,
    "start_time": "2022-04-08T07:15:19.474Z"
   },
   {
    "duration": 432,
    "start_time": "2022-04-08T07:15:19.492Z"
   },
   {
    "duration": 467,
    "start_time": "2022-04-08T07:15:19.929Z"
   },
   {
    "duration": 439,
    "start_time": "2022-04-08T07:15:20.398Z"
   },
   {
    "duration": 664,
    "start_time": "2022-04-08T07:15:20.839Z"
   },
   {
    "duration": 466,
    "start_time": "2022-04-08T07:15:21.506Z"
   },
   {
    "duration": 522,
    "start_time": "2022-04-08T07:15:21.975Z"
   },
   {
    "duration": 203,
    "start_time": "2022-04-08T07:15:22.499Z"
   },
   {
    "duration": 6,
    "start_time": "2022-04-08T07:15:22.704Z"
   },
   {
    "duration": 224,
    "start_time": "2022-04-08T07:15:22.712Z"
   },
   {
    "duration": 6,
    "start_time": "2022-04-08T07:15:22.939Z"
   },
   {
    "duration": 80,
    "start_time": "2022-04-08T07:15:22.947Z"
   },
   {
    "duration": 38,
    "start_time": "2022-04-08T07:15:23.029Z"
   },
   {
    "duration": 12,
    "start_time": "2022-04-08T07:15:23.070Z"
   },
   {
    "duration": 43,
    "start_time": "2022-04-08T07:15:23.085Z"
   },
   {
    "duration": 5,
    "start_time": "2022-04-08T07:15:23.130Z"
   },
   {
    "duration": 47,
    "start_time": "2022-04-08T07:15:23.137Z"
   },
   {
    "duration": 191,
    "start_time": "2022-04-08T07:17:03.848Z"
   },
   {
    "duration": 19,
    "start_time": "2022-04-08T07:19:42.086Z"
   },
   {
    "duration": 44,
    "start_time": "2022-04-08T07:23:13.011Z"
   },
   {
    "duration": 19,
    "start_time": "2022-04-08T07:24:31.781Z"
   },
   {
    "duration": 42,
    "start_time": "2022-04-08T07:28:37.912Z"
   },
   {
    "duration": 2027,
    "start_time": "2022-04-08T07:28:51.851Z"
   },
   {
    "duration": 1932,
    "start_time": "2022-04-08T07:29:02.092Z"
   },
   {
    "duration": 21,
    "start_time": "2022-04-08T07:31:30.326Z"
   },
   {
    "duration": 41,
    "start_time": "2022-04-08T07:32:44.595Z"
   },
   {
    "duration": 1750,
    "start_time": "2022-04-10T12:10:38.561Z"
   },
   {
    "duration": 13,
    "start_time": "2022-04-10T12:10:40.314Z"
   },
   {
    "duration": 8,
    "start_time": "2022-04-10T12:10:40.329Z"
   },
   {
    "duration": 50,
    "start_time": "2022-04-10T12:10:40.340Z"
   },
   {
    "duration": 18,
    "start_time": "2022-04-10T12:10:40.391Z"
   },
   {
    "duration": 25,
    "start_time": "2022-04-10T12:10:40.411Z"
   },
   {
    "duration": 166,
    "start_time": "2022-04-10T12:10:40.439Z"
   },
   {
    "duration": 15,
    "start_time": "2022-04-10T12:10:40.607Z"
   },
   {
    "duration": 449,
    "start_time": "2022-04-10T12:10:40.624Z"
   },
   {
    "duration": 480,
    "start_time": "2022-04-10T12:10:41.077Z"
   },
   {
    "duration": 445,
    "start_time": "2022-04-10T12:10:41.559Z"
   },
   {
    "duration": 635,
    "start_time": "2022-04-10T12:10:42.007Z"
   },
   {
    "duration": 461,
    "start_time": "2022-04-10T12:10:42.644Z"
   },
   {
    "duration": 531,
    "start_time": "2022-04-10T12:10:43.107Z"
   },
   {
    "duration": 207,
    "start_time": "2022-04-10T12:10:43.640Z"
   },
   {
    "duration": 7,
    "start_time": "2022-04-10T12:10:43.850Z"
   },
   {
    "duration": 226,
    "start_time": "2022-04-10T12:10:43.874Z"
   },
   {
    "duration": 6,
    "start_time": "2022-04-10T12:10:44.102Z"
   },
   {
    "duration": 86,
    "start_time": "2022-04-10T12:10:44.110Z"
   },
   {
    "duration": 15,
    "start_time": "2022-04-10T12:10:44.198Z"
   },
   {
    "duration": 12,
    "start_time": "2022-04-10T12:10:44.215Z"
   },
   {
    "duration": 75,
    "start_time": "2022-04-10T12:10:44.229Z"
   },
   {
    "duration": 6,
    "start_time": "2022-04-10T12:10:44.306Z"
   },
   {
    "duration": 21,
    "start_time": "2022-04-10T12:10:44.314Z"
   },
   {
    "duration": 1789,
    "start_time": "2022-04-10T17:47:27.381Z"
   },
   {
    "duration": 13,
    "start_time": "2022-04-10T17:47:29.174Z"
   },
   {
    "duration": 15,
    "start_time": "2022-04-10T17:47:29.189Z"
   },
   {
    "duration": 54,
    "start_time": "2022-04-10T17:47:29.207Z"
   },
   {
    "duration": 18,
    "start_time": "2022-04-10T17:47:29.263Z"
   },
   {
    "duration": 31,
    "start_time": "2022-04-10T17:47:29.284Z"
   },
   {
    "duration": 138,
    "start_time": "2022-04-10T17:47:29.343Z"
   },
   {
    "duration": 15,
    "start_time": "2022-04-10T17:47:29.484Z"
   },
   {
    "duration": 407,
    "start_time": "2022-04-10T17:47:29.502Z"
   },
   {
    "duration": 469,
    "start_time": "2022-04-10T17:47:29.915Z"
   },
   {
    "duration": 424,
    "start_time": "2022-04-10T17:47:30.386Z"
   },
   {
    "duration": 603,
    "start_time": "2022-04-10T17:47:30.812Z"
   },
   {
    "duration": 448,
    "start_time": "2022-04-10T17:47:31.417Z"
   },
   {
    "duration": 510,
    "start_time": "2022-04-10T17:47:31.867Z"
   },
   {
    "duration": 196,
    "start_time": "2022-04-10T17:47:32.379Z"
   },
   {
    "duration": 7,
    "start_time": "2022-04-10T17:47:32.578Z"
   },
   {
    "duration": 226,
    "start_time": "2022-04-10T17:47:32.588Z"
   },
   {
    "duration": 7,
    "start_time": "2022-04-10T17:47:32.817Z"
   },
   {
    "duration": 77,
    "start_time": "2022-04-10T17:47:32.826Z"
   },
   {
    "duration": 40,
    "start_time": "2022-04-10T17:47:32.906Z"
   },
   {
    "duration": 13,
    "start_time": "2022-04-10T17:47:32.948Z"
   },
   {
    "duration": 49,
    "start_time": "2022-04-10T17:47:32.963Z"
   },
   {
    "duration": 3321,
    "start_time": "2022-04-10T17:47:33.014Z"
   },
   {
    "duration": 0,
    "start_time": "2022-04-10T17:47:36.337Z"
   },
   {
    "duration": 0,
    "start_time": "2022-04-10T17:47:36.339Z"
   },
   {
    "duration": 3064,
    "start_time": "2022-04-10T17:47:54.455Z"
   },
   {
    "duration": 13,
    "start_time": "2022-04-10T17:48:24.599Z"
   },
   {
    "duration": 3191,
    "start_time": "2022-04-10T17:48:36.642Z"
   },
   {
    "duration": 14,
    "start_time": "2022-04-10T17:48:54.120Z"
   },
   {
    "duration": 11,
    "start_time": "2022-04-10T17:49:10.776Z"
   },
   {
    "duration": 7,
    "start_time": "2022-04-10T17:49:16.946Z"
   },
   {
    "duration": 15,
    "start_time": "2022-04-10T17:49:17.585Z"
   },
   {
    "duration": 12,
    "start_time": "2022-04-10T17:49:34.056Z"
   },
   {
    "duration": 7,
    "start_time": "2022-04-10T17:51:27.707Z"
   },
   {
    "duration": 10,
    "start_time": "2022-04-10T17:51:40.361Z"
   },
   {
    "duration": 7,
    "start_time": "2022-04-10T17:51:44.570Z"
   },
   {
    "duration": 16,
    "start_time": "2022-04-10T17:53:42.095Z"
   },
   {
    "duration": 13,
    "start_time": "2022-04-10T17:53:45.734Z"
   },
   {
    "duration": 1611,
    "start_time": "2022-04-10T17:55:41.056Z"
   },
   {
    "duration": 15,
    "start_time": "2022-04-10T17:55:42.670Z"
   },
   {
    "duration": 6,
    "start_time": "2022-04-10T17:55:42.688Z"
   },
   {
    "duration": 56,
    "start_time": "2022-04-10T17:55:42.696Z"
   },
   {
    "duration": 17,
    "start_time": "2022-04-10T17:55:42.755Z"
   },
   {
    "duration": 18,
    "start_time": "2022-04-10T17:55:42.774Z"
   },
   {
    "duration": 165,
    "start_time": "2022-04-10T17:55:42.794Z"
   },
   {
    "duration": 15,
    "start_time": "2022-04-10T17:55:42.961Z"
   },
   {
    "duration": 448,
    "start_time": "2022-04-10T17:55:42.979Z"
   },
   {
    "duration": 470,
    "start_time": "2022-04-10T17:55:43.430Z"
   },
   {
    "duration": 440,
    "start_time": "2022-04-10T17:55:43.903Z"
   },
   {
    "duration": 562,
    "start_time": "2022-04-10T17:55:44.346Z"
   },
   {
    "duration": 460,
    "start_time": "2022-04-10T17:55:44.910Z"
   },
   {
    "duration": 536,
    "start_time": "2022-04-10T17:55:45.375Z"
   },
   {
    "duration": 207,
    "start_time": "2022-04-10T17:55:45.913Z"
   },
   {
    "duration": 6,
    "start_time": "2022-04-10T17:55:46.123Z"
   },
   {
    "duration": 235,
    "start_time": "2022-04-10T17:55:46.131Z"
   },
   {
    "duration": 6,
    "start_time": "2022-04-10T17:55:46.368Z"
   },
   {
    "duration": 82,
    "start_time": "2022-04-10T17:55:46.377Z"
   },
   {
    "duration": 15,
    "start_time": "2022-04-10T17:55:46.461Z"
   },
   {
    "duration": 12,
    "start_time": "2022-04-10T17:55:46.479Z"
   },
   {
    "duration": 76,
    "start_time": "2022-04-10T17:55:46.493Z"
   },
   {
    "duration": 6,
    "start_time": "2022-04-10T17:55:46.571Z"
   },
   {
    "duration": 30,
    "start_time": "2022-04-10T17:55:46.579Z"
   },
   {
    "duration": 1294,
    "start_time": "2022-04-11T12:51:49.073Z"
   },
   {
    "duration": 10,
    "start_time": "2022-04-11T12:51:50.370Z"
   },
   {
    "duration": 6,
    "start_time": "2022-04-11T12:51:50.381Z"
   },
   {
    "duration": 18,
    "start_time": "2022-04-11T12:51:50.389Z"
   },
   {
    "duration": 10,
    "start_time": "2022-04-11T12:51:50.408Z"
   },
   {
    "duration": 12,
    "start_time": "2022-04-11T12:51:50.448Z"
   },
   {
    "duration": 70,
    "start_time": "2022-04-11T12:51:50.462Z"
   },
   {
    "duration": 19,
    "start_time": "2022-04-11T12:51:50.534Z"
   },
   {
    "duration": 243,
    "start_time": "2022-04-11T12:51:50.555Z"
   },
   {
    "duration": 289,
    "start_time": "2022-04-11T12:51:50.801Z"
   },
   {
    "duration": 262,
    "start_time": "2022-04-11T12:51:51.092Z"
   },
   {
    "duration": 413,
    "start_time": "2022-04-11T12:51:51.355Z"
   },
   {
    "duration": 266,
    "start_time": "2022-04-11T12:51:51.769Z"
   },
   {
    "duration": 376,
    "start_time": "2022-04-11T12:51:52.036Z"
   },
   {
    "duration": 130,
    "start_time": "2022-04-11T12:51:52.413Z"
   },
   {
    "duration": 4,
    "start_time": "2022-04-11T12:51:52.548Z"
   },
   {
    "duration": 141,
    "start_time": "2022-04-11T12:51:52.553Z"
   },
   {
    "duration": 5,
    "start_time": "2022-04-11T12:51:52.696Z"
   },
   {
    "duration": 57,
    "start_time": "2022-04-11T12:51:52.702Z"
   },
   {
    "duration": 9,
    "start_time": "2022-04-11T12:51:52.761Z"
   },
   {
    "duration": 7,
    "start_time": "2022-04-11T12:51:52.772Z"
   },
   {
    "duration": 34,
    "start_time": "2022-04-11T12:51:52.780Z"
   },
   {
    "duration": 3,
    "start_time": "2022-04-11T12:51:52.816Z"
   },
   {
    "duration": 35,
    "start_time": "2022-04-11T12:51:52.820Z"
   },
   {
    "duration": 5,
    "start_time": "2022-04-11T12:59:40.043Z"
   },
   {
    "duration": 32,
    "start_time": "2022-04-11T13:04:03.812Z"
   },
   {
    "duration": 97,
    "start_time": "2022-04-11T13:04:33.012Z"
   },
   {
    "duration": 16,
    "start_time": "2022-04-11T13:05:01.625Z"
   },
   {
    "duration": 15,
    "start_time": "2022-04-11T13:05:33.694Z"
   },
   {
    "duration": 15,
    "start_time": "2022-04-11T13:06:44.820Z"
   },
   {
    "duration": 15,
    "start_time": "2022-04-11T13:07:21.569Z"
   },
   {
    "duration": 13,
    "start_time": "2022-04-11T13:07:48.715Z"
   },
   {
    "duration": 13,
    "start_time": "2022-04-11T13:08:16.131Z"
   },
   {
    "duration": 13,
    "start_time": "2022-04-11T13:08:58.774Z"
   },
   {
    "duration": 14,
    "start_time": "2022-04-11T13:09:24.115Z"
   },
   {
    "duration": 15,
    "start_time": "2022-04-11T13:09:41.062Z"
   },
   {
    "duration": 131,
    "start_time": "2022-04-11T13:09:53.887Z"
   },
   {
    "duration": 2023,
    "start_time": "2022-04-11T13:10:13.955Z"
   },
   {
    "duration": 2241,
    "start_time": "2022-04-11T13:10:32.596Z"
   },
   {
    "duration": 14,
    "start_time": "2022-04-11T13:14:20.985Z"
   },
   {
    "duration": 55,
    "start_time": "2022-04-11T13:19:30.600Z"
   },
   {
    "duration": 52,
    "start_time": "2022-04-11T13:19:51.992Z"
   },
   {
    "duration": 50,
    "start_time": "2022-04-11T13:20:20.213Z"
   },
   {
    "duration": 17,
    "start_time": "2022-04-11T13:21:30.038Z"
   },
   {
    "duration": 15,
    "start_time": "2022-04-11T13:21:41.274Z"
   },
   {
    "duration": 18,
    "start_time": "2022-04-11T13:22:04.555Z"
   },
   {
    "duration": 24,
    "start_time": "2022-04-11T13:22:42.271Z"
   },
   {
    "duration": 3981,
    "start_time": "2022-04-11T13:23:10.712Z"
   },
   {
    "duration": 2213,
    "start_time": "2022-04-11T13:23:57.653Z"
   },
   {
    "duration": 2184,
    "start_time": "2022-04-11T13:24:56.424Z"
   },
   {
    "duration": 2193,
    "start_time": "2022-04-11T13:25:25.055Z"
   },
   {
    "duration": 172,
    "start_time": "2022-04-11T13:26:23.679Z"
   },
   {
    "duration": 159,
    "start_time": "2022-04-11T13:27:03.649Z"
   },
   {
    "duration": 13,
    "start_time": "2022-04-11T13:28:48.760Z"
   },
   {
    "duration": 142,
    "start_time": "2022-04-11T13:29:26.058Z"
   },
   {
    "duration": 146,
    "start_time": "2022-04-11T13:30:44.552Z"
   },
   {
    "duration": 160,
    "start_time": "2022-04-11T13:30:56.451Z"
   },
   {
    "duration": 4,
    "start_time": "2022-04-11T13:31:44.859Z"
   },
   {
    "duration": 14,
    "start_time": "2022-04-11T13:33:53.388Z"
   }
  ],
  "kernelspec": {
   "display_name": "Python 3 (ipykernel)",
   "language": "python",
   "name": "python3"
  },
  "language_info": {
   "codemirror_mode": {
    "name": "ipython",
    "version": 3
   },
   "file_extension": ".py",
   "mimetype": "text/x-python",
   "name": "python",
   "nbconvert_exporter": "python",
   "pygments_lexer": "ipython3",
   "version": "3.9.5"
  },
  "toc": {
   "base_numbering": 1,
   "nav_menu": {},
   "number_sections": true,
   "sideBar": true,
   "skip_h1_title": true,
   "title_cell": "Table of Contents",
   "title_sidebar": "Оглавление",
   "toc_cell": false,
   "toc_position": {
    "height": "calc(100% - 180px)",
    "left": "10px",
    "top": "150px",
    "width": "206.6px"
   },
   "toc_section_display": true,
   "toc_window_display": false
  }
 },
 "nbformat": 4,
 "nbformat_minor": 2
}
